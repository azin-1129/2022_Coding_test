{
 "cells": [
  {
   "cell_type": "markdown",
   "id": "0073cbc8",
   "metadata": {},
   "source": [
    "- 2.6 행렬의 분해: 고윳값, 고유 벡터, 대각화"
   ]
  },
  {
   "cell_type": "markdown",
   "id": "09bdb026",
   "metadata": {},
   "source": [
    "- - 1. 분석모형 응용-주성분 분석"
   ]
  },
  {
   "cell_type": "code",
   "execution_count": 3,
   "id": "807550c0",
   "metadata": {},
   "outputs": [
    {
     "data": {
      "text/html": [
       "<style>#sk-container-id-1 {color: black;background-color: white;}#sk-container-id-1 pre{padding: 0;}#sk-container-id-1 div.sk-toggleable {background-color: white;}#sk-container-id-1 label.sk-toggleable__label {cursor: pointer;display: block;width: 100%;margin-bottom: 0;padding: 0.3em;box-sizing: border-box;text-align: center;}#sk-container-id-1 label.sk-toggleable__label-arrow:before {content: \"▸\";float: left;margin-right: 0.25em;color: #696969;}#sk-container-id-1 label.sk-toggleable__label-arrow:hover:before {color: black;}#sk-container-id-1 div.sk-estimator:hover label.sk-toggleable__label-arrow:before {color: black;}#sk-container-id-1 div.sk-toggleable__content {max-height: 0;max-width: 0;overflow: hidden;text-align: left;background-color: #f0f8ff;}#sk-container-id-1 div.sk-toggleable__content pre {margin: 0.2em;color: black;border-radius: 0.25em;background-color: #f0f8ff;}#sk-container-id-1 input.sk-toggleable__control:checked~div.sk-toggleable__content {max-height: 200px;max-width: 100%;overflow: auto;}#sk-container-id-1 input.sk-toggleable__control:checked~label.sk-toggleable__label-arrow:before {content: \"▾\";}#sk-container-id-1 div.sk-estimator input.sk-toggleable__control:checked~label.sk-toggleable__label {background-color: #d4ebff;}#sk-container-id-1 div.sk-label input.sk-toggleable__control:checked~label.sk-toggleable__label {background-color: #d4ebff;}#sk-container-id-1 input.sk-hidden--visually {border: 0;clip: rect(1px 1px 1px 1px);clip: rect(1px, 1px, 1px, 1px);height: 1px;margin: -1px;overflow: hidden;padding: 0;position: absolute;width: 1px;}#sk-container-id-1 div.sk-estimator {font-family: monospace;background-color: #f0f8ff;border: 1px dotted black;border-radius: 0.25em;box-sizing: border-box;margin-bottom: 0.5em;}#sk-container-id-1 div.sk-estimator:hover {background-color: #d4ebff;}#sk-container-id-1 div.sk-parallel-item::after {content: \"\";width: 100%;border-bottom: 1px solid gray;flex-grow: 1;}#sk-container-id-1 div.sk-label:hover label.sk-toggleable__label {background-color: #d4ebff;}#sk-container-id-1 div.sk-serial::before {content: \"\";position: absolute;border-left: 1px solid gray;box-sizing: border-box;top: 0;bottom: 0;left: 50%;z-index: 0;}#sk-container-id-1 div.sk-serial {display: flex;flex-direction: column;align-items: center;background-color: white;padding-right: 0.2em;padding-left: 0.2em;position: relative;}#sk-container-id-1 div.sk-item {position: relative;z-index: 1;}#sk-container-id-1 div.sk-parallel {display: flex;align-items: stretch;justify-content: center;background-color: white;position: relative;}#sk-container-id-1 div.sk-item::before, #sk-container-id-1 div.sk-parallel-item::before {content: \"\";position: absolute;border-left: 1px solid gray;box-sizing: border-box;top: 0;bottom: 0;left: 50%;z-index: -1;}#sk-container-id-1 div.sk-parallel-item {display: flex;flex-direction: column;z-index: 1;position: relative;background-color: white;}#sk-container-id-1 div.sk-parallel-item:first-child::after {align-self: flex-end;width: 50%;}#sk-container-id-1 div.sk-parallel-item:last-child::after {align-self: flex-start;width: 50%;}#sk-container-id-1 div.sk-parallel-item:only-child::after {width: 0;}#sk-container-id-1 div.sk-dashed-wrapped {border: 1px dashed gray;margin: 0 0.4em 0.5em 0.4em;box-sizing: border-box;padding-bottom: 0.4em;background-color: white;}#sk-container-id-1 div.sk-label label {font-family: monospace;font-weight: bold;display: inline-block;line-height: 1.2em;}#sk-container-id-1 div.sk-label-container {text-align: center;}#sk-container-id-1 div.sk-container {/* jupyter's `normalize.less` sets `[hidden] { display: none; }` but bootstrap.min.css set `[hidden] { display: none !important; }` so we also need the `!important` here to be able to override the default hidden behavior on the sphinx rendered scikit-learn.org. See: https://github.com/scikit-learn/scikit-learn/issues/21755 */display: inline-block !important;position: relative;}#sk-container-id-1 div.sk-text-repr-fallback {display: none;}</style><div id=\"sk-container-id-1\" class=\"sk-top-container\"><div class=\"sk-text-repr-fallback\"><pre>PCA(n_components=2)</pre><b>In a Jupyter environment, please rerun this cell to show the HTML representation or trust the notebook. <br />On GitHub, the HTML representation is unable to render, please try loading this page with nbviewer.org.</b></div><div class=\"sk-container\" hidden><div class=\"sk-item\"><div class=\"sk-estimator sk-toggleable\"><input class=\"sk-toggleable__control sk-hidden--visually\" id=\"sk-estimator-id-1\" type=\"checkbox\" checked><label for=\"sk-estimator-id-1\" class=\"sk-toggleable__label sk-toggleable__label-arrow\">PCA</label><div class=\"sk-toggleable__content\"><pre>PCA(n_components=2)</pre></div></div></div></div></div>"
      ],
      "text/plain": [
       "PCA(n_components=2)"
      ]
     },
     "execution_count": 3,
     "metadata": {},
     "output_type": "execute_result"
    }
   ],
   "source": [
    "import numpy as np\n",
    "\n",
    "from sklearn.decomposition import PCA\n",
    "\n",
    "M=np.array([\n",
    "    [-1,-1,-1],\n",
    "    [-2,-1,2],\n",
    "    [-3,-2,0],\n",
    "    [1,1,2],\n",
    "    [2,1,1],\n",
    "    [3,2,4],\n",
    "    [2,0,3],\n",
    "    [3,5,1],\n",
    "    [4,2,3],\n",
    "    [3,3,2]\n",
    "])\n",
    "\n",
    "pca=PCA(n_components=2)\n",
    "\n",
    "pca.fit(M)"
   ]
  },
  {
   "cell_type": "code",
   "execution_count": 6,
   "id": "366485e4",
   "metadata": {},
   "outputs": [],
   "source": [
    "PC=pca.transform(M)"
   ]
  },
  {
   "cell_type": "code",
   "execution_count": 7,
   "id": "6fe964c7",
   "metadata": {
    "scrolled": true
   },
   "outputs": [
    {
     "data": {
      "text/plain": [
       "array([[-1.63789386,  0.38309423, -0.41296792],\n",
       "       [-1.50265209, -1.67967793,  1.98008049],\n",
       "       [-3.43143719, -0.83088857,  0.73134327],\n",
       "       [ 1.9287851 , -0.84878936,  1.24873722],\n",
       "       [ 2.3753258 ,  0.28259255,  0.52722744],\n",
       "       [ 4.59500215, -1.03189193,  2.61173397],\n",
       "       [ 2.3475376 , -0.06571181,  2.73582697],\n",
       "       [ 5.55104049, -1.38406422, -1.5067567 ],\n",
       "       [ 5.04154285,  0.09948998,  1.89022418],\n",
       "       [ 4.62279035, -0.68358757,  0.40313444]])"
      ]
     },
     "execution_count": 7,
     "metadata": {},
     "output_type": "execute_result"
    }
   ],
   "source": [
    "s, V=np.linalg.eig(pca.get_covariance())\n",
    "V.T.dot(M.T).T"
   ]
  },
  {
   "cell_type": "markdown",
   "id": "a108cc12",
   "metadata": {},
   "source": [
    "---"
   ]
  },
  {
   "cell_type": "markdown",
   "id": "88b4dd4d",
   "metadata": {},
   "source": [
    "- 2.7 파이썬 실습"
   ]
  },
  {
   "cell_type": "markdown",
   "id": "c6488d9e",
   "metadata": {},
   "source": [
    "- - numpy, scipy 이용한 선형대수 연산"
   ]
  },
  {
   "cell_type": "code",
   "execution_count": 8,
   "id": "994d302c",
   "metadata": {},
   "outputs": [],
   "source": [
    "import numpy as np\n",
    "from scipy import linalg, sparse"
   ]
  },
  {
   "cell_type": "code",
   "execution_count": 9,
   "id": "0bc4de78",
   "metadata": {},
   "outputs": [
    {
     "data": {
      "text/plain": [
       "matrix([[0.81972744, 0.50570645],\n",
       "        [0.09569674, 0.65448248]])"
      ]
     },
     "execution_count": 9,
     "metadata": {},
     "output_type": "execute_result"
    }
   ],
   "source": [
    "A=np.matrix(np.random.random((2,2)))\n",
    "A"
   ]
  },
  {
   "cell_type": "code",
   "execution_count": 16,
   "id": "6931535e",
   "metadata": {
    "scrolled": false
   },
   "outputs": [
    {
     "data": {
      "text/plain": [
       "matrix([[ 1.34087018, -1.03606547],\n",
       "        [-0.19605858,  1.6794156 ]])"
      ]
     },
     "execution_count": 16,
     "metadata": {},
     "output_type": "execute_result"
    }
   ],
   "source": [
    "A.I"
   ]
  },
  {
   "cell_type": "code",
   "execution_count": 17,
   "id": "7f2a62db",
   "metadata": {},
   "outputs": [
    {
     "data": {
      "text/plain": [
       "0.4881027914850743"
      ]
     },
     "execution_count": 17,
     "metadata": {},
     "output_type": "execute_result"
    }
   ],
   "source": [
    "linalg.det(A)"
   ]
  },
  {
   "cell_type": "code",
   "execution_count": 18,
   "id": "67ccf2d8",
   "metadata": {
    "scrolled": true
   },
   "outputs": [
    {
     "data": {
      "text/plain": [
       "matrix([[3.81972744, 4.50570645],\n",
       "        [5.09569674, 6.65448248]])"
      ]
     },
     "execution_count": 18,
     "metadata": {},
     "output_type": "execute_result"
    }
   ],
   "source": [
    "np.add(A,D)"
   ]
  },
  {
   "cell_type": "code",
   "execution_count": 20,
   "id": "363f0ea2",
   "metadata": {},
   "outputs": [
    {
     "data": {
      "text/plain": [
       "matrix([[-2.18027256, -3.49429355],\n",
       "        [-4.90430326, -5.34551752]])"
      ]
     },
     "execution_count": 20,
     "metadata": {},
     "output_type": "execute_result"
    }
   ],
   "source": [
    "np.subtract(A,D)"
   ]
  },
  {
   "cell_type": "code",
   "execution_count": 21,
   "id": "056fb96a",
   "metadata": {},
   "outputs": [
    {
     "data": {
      "text/plain": [
       "matrix([[0.27324248, 0.12642661],\n",
       "        [0.01913935, 0.10908041]])"
      ]
     },
     "execution_count": 21,
     "metadata": {},
     "output_type": "execute_result"
    }
   ],
   "source": [
    "np.divide(A,D)"
   ]
  },
  {
   "cell_type": "code",
   "execution_count": 11,
   "id": "ecaf9ea7",
   "metadata": {},
   "outputs": [
    {
     "data": {
      "text/plain": [
       "array([[0.06294109, 0.5834834 ],\n",
       "       [0.4432309 , 0.19369632]])"
      ]
     },
     "execution_count": 11,
     "metadata": {},
     "output_type": "execute_result"
    }
   ],
   "source": [
    "b=np.random.random((2,2))\n",
    "b"
   ]
  },
  {
   "cell_type": "code",
   "execution_count": 12,
   "id": "b2c312bb",
   "metadata": {},
   "outputs": [
    {
     "data": {
      "text/plain": [
       "matrix([[0.06294109, 0.5834834 ],\n",
       "        [0.4432309 , 0.19369632]])"
      ]
     },
     "execution_count": 12,
     "metadata": {},
     "output_type": "execute_result"
    }
   ],
   "source": [
    "B=np.asmatrix(b)\n",
    "B"
   ]
  },
  {
   "cell_type": "code",
   "execution_count": 13,
   "id": "bf616a3f",
   "metadata": {},
   "outputs": [
    {
     "data": {
      "text/plain": [
       "matrix([[0.07459771, 0.86374324, 0.14579294, 0.86444324, 0.10698049],\n",
       "        [0.1296549 , 0.99856142, 0.22848926, 0.49303185, 0.21886579],\n",
       "        [0.46055497, 0.1638369 , 0.65749323, 0.41606771, 0.50198762],\n",
       "        [0.23627547, 0.72604286, 0.11209106, 0.05702516, 0.56507831],\n",
       "        [0.41471693, 0.53455984, 0.41471198, 0.15593426, 0.2792943 ],\n",
       "        [0.11732191, 0.74639128, 0.81926944, 0.89530128, 0.46436903],\n",
       "        [0.83227621, 0.32045459, 0.71272557, 0.45806958, 0.16484764],\n",
       "        [0.62435179, 0.83273177, 0.17202085, 0.89416061, 0.72817806],\n",
       "        [0.12679558, 0.24640226, 0.91360728, 0.13777316, 0.15683967],\n",
       "        [0.86008003, 0.13702304, 0.3011031 , 0.04253708, 0.51748386]])"
      ]
     },
     "execution_count": 13,
     "metadata": {},
     "output_type": "execute_result"
    }
   ],
   "source": [
    "C=np.mat(np.random.random((10,5)))\n",
    "C"
   ]
  },
  {
   "cell_type": "code",
   "execution_count": 15,
   "id": "419e56e8",
   "metadata": {},
   "outputs": [
    {
     "data": {
      "text/plain": [
       "matrix([[3, 4],\n",
       "        [5, 6]])"
      ]
     },
     "execution_count": 15,
     "metadata": {},
     "output_type": "execute_result"
    }
   ],
   "source": [
    "D=np.mat([\n",
    "    [3,4],\n",
    "    [5,6]\n",
    "])\n",
    "D"
   ]
  },
  {
   "cell_type": "code",
   "execution_count": 23,
   "id": "a018e18b",
   "metadata": {},
   "outputs": [
    {
     "name": "stdout",
     "output_type": "stream",
     "text": [
      "[[1.96174686 2.52523547]\n",
      " [2.97409084 4.07959491]]\n"
     ]
    }
   ],
   "source": [
    "print(D@B) # DxB"
   ]
  },
  {
   "cell_type": "code",
   "execution_count": 24,
   "id": "2a0ca6d8",
   "metadata": {},
   "outputs": [
    {
     "name": "stdout",
     "output_type": "stream",
     "text": [
      "[[1.96174686 2.52523547]\n",
      " [2.97409084 4.07959491]]\n"
     ]
    }
   ],
   "source": [
    "print(np.dot(D,B)) # DxB"
   ]
  },
  {
   "cell_type": "code",
   "execution_count": 25,
   "id": "95e510d9",
   "metadata": {},
   "outputs": [
    {
     "name": "stdout",
     "output_type": "stream",
     "text": [
      "[[0.18882326 2.33393361]\n",
      " [2.2161545  1.16217789]]\n"
     ]
    }
   ],
   "source": [
    "print(np.multiply(D,B)) # 행렬곱이 아니라 단순히 대응 원소끼리 곱"
   ]
  },
  {
   "cell_type": "code",
   "execution_count": 26,
   "id": "b35a886f",
   "metadata": {},
   "outputs": [
    {
     "data": {
      "text/plain": [
       "matrix([[1., 0.],\n",
       "        [0., 1.]])"
      ]
     },
     "execution_count": 26,
     "metadata": {},
     "output_type": "execute_result"
    }
   ],
   "source": [
    "G=np.mat(np.identity(2)) # 항등\n",
    "G"
   ]
  },
  {
   "cell_type": "markdown",
   "id": "fbf36cf1",
   "metadata": {},
   "source": [
    "---"
   ]
  },
  {
   "cell_type": "markdown",
   "id": "ae305f40",
   "metadata": {},
   "source": [
    "- - 행렬 A의 고윳값, 고유 벡터 구하기"
   ]
  },
  {
   "cell_type": "code",
   "execution_count": 29,
   "id": "6d1dcfa4",
   "metadata": {},
   "outputs": [
    {
     "data": {
      "text/plain": [
       "array([0.97209631+0.j, 0.50211362+0.j])"
      ]
     },
     "execution_count": 29,
     "metadata": {},
     "output_type": "execute_result"
    }
   ],
   "source": [
    "linalg.eigvals(A) # 고윳값"
   ]
  },
  {
   "cell_type": "code",
   "execution_count": 31,
   "id": "c487785b",
   "metadata": {},
   "outputs": [],
   "source": [
    "la, v=linalg.eig(A) # 고유 벡터"
   ]
  },
  {
   "cell_type": "code",
   "execution_count": 32,
   "id": "9cf62dbd",
   "metadata": {},
   "outputs": [],
   "source": [
    "l1, l2= la # 고윳값 to l1, l2"
   ]
  },
  {
   "cell_type": "code",
   "execution_count": 33,
   "id": "e5a50211",
   "metadata": {},
   "outputs": [
    {
     "data": {
      "text/plain": [
       "(0.9720963062066519+0j)"
      ]
     },
     "execution_count": 33,
     "metadata": {},
     "output_type": "execute_result"
    }
   ],
   "source": [
    "l1"
   ]
  },
  {
   "cell_type": "code",
   "execution_count": 34,
   "id": "1eb8e868",
   "metadata": {},
   "outputs": [
    {
     "data": {
      "text/plain": [
       "(0.5021136160775737+0j)"
      ]
     },
     "execution_count": 34,
     "metadata": {},
     "output_type": "execute_result"
    }
   ],
   "source": [
    "l2 # 고윳값(방향)"
   ]
  },
  {
   "cell_type": "code",
   "execution_count": 35,
   "id": "880df069",
   "metadata": {},
   "outputs": [
    {
     "data": {
      "text/plain": [
       "array([0.95748327, 0.28848878])"
      ]
     },
     "execution_count": 35,
     "metadata": {},
     "output_type": "execute_result"
    }
   ],
   "source": [
    "v[:,0] # 고유 벡터(크기)"
   ]
  },
  {
   "cell_type": "code",
   "execution_count": 36,
   "id": "f937c53d",
   "metadata": {},
   "outputs": [
    {
     "data": {
      "text/plain": [
       "array([-0.84683175,  0.53186087])"
      ]
     },
     "execution_count": 36,
     "metadata": {},
     "output_type": "execute_result"
    }
   ],
   "source": [
    "v[:,1]"
   ]
  },
  {
   "cell_type": "markdown",
   "id": "9d657e6a",
   "metadata": {},
   "source": [
    "- - 3. 희소행렬 만들고 확인하기"
   ]
  },
  {
   "cell_type": "code",
   "execution_count": 37,
   "id": "ba9bbb7a",
   "metadata": {},
   "outputs": [
    {
     "data": {
      "text/plain": [
       "matrix([[0.07459771, 0.86374324, 0.14579294, 0.86444324, 0.10698049],\n",
       "        [0.1296549 , 0.99856142, 0.22848926, 0.49303185, 0.21886579],\n",
       "        [0.46055497, 0.1638369 , 0.65749323, 0.41606771, 0.50198762],\n",
       "        [0.23627547, 0.72604286, 0.11209106, 0.05702516, 0.56507831],\n",
       "        [0.41471693, 0.53455984, 0.41471198, 0.15593426, 0.2792943 ],\n",
       "        [0.11732191, 0.74639128, 0.81926944, 0.89530128, 0.46436903],\n",
       "        [0.83227621, 0.32045459, 0.71272557, 0.45806958, 0.16484764],\n",
       "        [0.62435179, 0.83273177, 0.17202085, 0.89416061, 0.72817806],\n",
       "        [0.12679558, 0.24640226, 0.91360728, 0.13777316, 0.15683967],\n",
       "        [0.86008003, 0.13702304, 0.3011031 , 0.04253708, 0.51748386]])"
      ]
     },
     "execution_count": 37,
     "metadata": {},
     "output_type": "execute_result"
    }
   ],
   "source": [
    "C"
   ]
  },
  {
   "cell_type": "code",
   "execution_count": 38,
   "id": "30a8892b",
   "metadata": {},
   "outputs": [],
   "source": [
    "C[C>0.5]=0"
   ]
  },
  {
   "cell_type": "code",
   "execution_count": 39,
   "id": "1777d5bb",
   "metadata": {},
   "outputs": [
    {
     "data": {
      "text/plain": [
       "matrix([[0.07459771, 0.        , 0.14579294, 0.        , 0.10698049],\n",
       "        [0.1296549 , 0.        , 0.22848926, 0.49303185, 0.21886579],\n",
       "        [0.46055497, 0.1638369 , 0.        , 0.41606771, 0.        ],\n",
       "        [0.23627547, 0.        , 0.11209106, 0.05702516, 0.        ],\n",
       "        [0.41471693, 0.        , 0.41471198, 0.15593426, 0.2792943 ],\n",
       "        [0.11732191, 0.        , 0.        , 0.        , 0.46436903],\n",
       "        [0.        , 0.32045459, 0.        , 0.45806958, 0.16484764],\n",
       "        [0.        , 0.        , 0.17202085, 0.        , 0.        ],\n",
       "        [0.12679558, 0.24640226, 0.        , 0.13777316, 0.15683967],\n",
       "        [0.        , 0.13702304, 0.3011031 , 0.04253708, 0.        ]])"
      ]
     },
     "execution_count": 39,
     "metadata": {},
     "output_type": "execute_result"
    }
   ],
   "source": [
    "C"
   ]
  },
  {
   "cell_type": "code",
   "execution_count": 40,
   "id": "7f35267a",
   "metadata": {},
   "outputs": [],
   "source": [
    "H=sparse.csr_matrix(C) # 희소행렬 변환"
   ]
  },
  {
   "cell_type": "code",
   "execution_count": 41,
   "id": "6be0baf9",
   "metadata": {},
   "outputs": [
    {
     "data": {
      "text/plain": [
       "<10x5 sparse matrix of type '<class 'numpy.float64'>'\n",
       "\twith 30 stored elements in Compressed Sparse Row format>"
      ]
     },
     "execution_count": 41,
     "metadata": {},
     "output_type": "execute_result"
    }
   ],
   "source": [
    "H"
   ]
  },
  {
   "cell_type": "code",
   "execution_count": 43,
   "id": "68ed7dcb",
   "metadata": {},
   "outputs": [
    {
     "data": {
      "text/plain": [
       "matrix([[0.07459771, 0.        , 0.14579294, 0.        , 0.10698049],\n",
       "        [0.1296549 , 0.        , 0.22848926, 0.49303185, 0.21886579],\n",
       "        [0.46055497, 0.1638369 , 0.        , 0.41606771, 0.        ],\n",
       "        [0.23627547, 0.        , 0.11209106, 0.05702516, 0.        ],\n",
       "        [0.41471693, 0.        , 0.41471198, 0.15593426, 0.2792943 ],\n",
       "        [0.11732191, 0.        , 0.        , 0.        , 0.46436903],\n",
       "        [0.        , 0.32045459, 0.        , 0.45806958, 0.16484764],\n",
       "        [0.        , 0.        , 0.17202085, 0.        , 0.        ],\n",
       "        [0.12679558, 0.24640226, 0.        , 0.13777316, 0.15683967],\n",
       "        [0.        , 0.13702304, 0.3011031 , 0.04253708, 0.        ]])"
      ]
     },
     "execution_count": 43,
     "metadata": {},
     "output_type": "execute_result"
    }
   ],
   "source": [
    "H.todense() # dense matrix.. 일반 행렬로 변환"
   ]
  },
  {
   "cell_type": "code",
   "execution_count": 44,
   "id": "7526b215",
   "metadata": {},
   "outputs": [
    {
     "data": {
      "text/plain": [
       "True"
      ]
     },
     "execution_count": 44,
     "metadata": {},
     "output_type": "execute_result"
    }
   ],
   "source": [
    "sparse.isspmatrix_csr(H)"
   ]
  },
  {
   "cell_type": "code",
   "execution_count": null,
   "id": "3c4a8a2c",
   "metadata": {},
   "outputs": [],
   "source": []
  }
 ],
 "metadata": {
  "kernelspec": {
   "display_name": "Python 3 (ipykernel)",
   "language": "python",
   "name": "python3"
  },
  "language_info": {
   "codemirror_mode": {
    "name": "ipython",
    "version": 3
   },
   "file_extension": ".py",
   "mimetype": "text/x-python",
   "name": "python",
   "nbconvert_exporter": "python",
   "pygments_lexer": "ipython3",
   "version": "3.10.4"
  }
 },
 "nbformat": 4,
 "nbformat_minor": 5
}
