{
 "cells": [
  {
   "cell_type": "code",
   "execution_count": 7,
   "metadata": {},
   "outputs": [
    {
     "name": "stdout",
     "output_type": "stream",
     "text": [
      "4 6\n",
      "19 15 10 17\n",
      "15\n",
      "소요 시간: -0.0009999275207519531\n"
     ]
    }
   ],
   "source": [
    "import time\n",
    "\n",
    "def binary_search(array,target,start,end):\n",
    "    if start>end:\n",
    "        return None\n",
    "    \n",
    "    temp=0\n",
    "    mid=(start+end)//2\n",
    "    \n",
    "    for tteok in array:\n",
    "        if tteok-mid<0:\n",
    "            continue\n",
    "        temp+=(tteok-mid)\n",
    "            \n",
    "        \n",
    "    #print(\"남은 떡\",temp)\n",
    "    if temp==target:\n",
    "        return mid\n",
    "    elif temp>target:\n",
    "        return binary_search(array,target,mid+1,end)\n",
    "    else:\n",
    "        return binary_search(array,target,start,mid-1)\n",
    "    \n",
    "N,M=map(int,input().split())\n",
    "tteok_list=list(map(int,input().split()))\n",
    "\n",
    "start=time.time()\n",
    "print(binary_search(tteok_list,M,0,max(tteok_list)))\n",
    "end=start-time.time()\n",
    "print(\"소요 시간:\",end)"
   ]
  },
  {
   "cell_type": "code",
   "execution_count": 10,
   "metadata": {},
   "outputs": [
    {
     "name": "stdout",
     "output_type": "stream",
     "text": [
      "4 6\n",
      "19 15 10 17\n",
      "15\n",
      "소요 시간: 0.0\n"
     ]
    }
   ],
   "source": [
    "# 7-8 답안 예시\n",
    "\n",
    "n,m=list(map(int,input().split(' ')))\n",
    "array=list(map(int,input().split()))\n",
    "\n",
    "start=0\n",
    "end=max(array)\n",
    "\n",
    "result=0\n",
    "\n",
    "start1=time.time()\n",
    "while(start<=end):\n",
    "    total=0\n",
    "    mid=(start+end)//2\n",
    "    \n",
    "    for x in array:\n",
    "        if x>mid:\n",
    "            total+=x-mid\n",
    "    if total<m:\n",
    "        end=mid-1\n",
    "    else:\n",
    "        result=mid\n",
    "        start=mid+1\n",
    "        \n",
    "end=time.time()-start1\n",
    "print(result)\n",
    "print(\"소요 시간:\",end)"
   ]
  },
  {
   "cell_type": "code",
   "execution_count": null,
   "metadata": {},
   "outputs": [],
   "source": []
  }
 ],
 "metadata": {
  "kernelspec": {
   "display_name": "Python 3",
   "language": "python",
   "name": "python3"
  },
  "language_info": {
   "codemirror_mode": {
    "name": "ipython",
    "version": 3
   },
   "file_extension": ".py",
   "mimetype": "text/x-python",
   "name": "python",
   "nbconvert_exporter": "python",
   "pygments_lexer": "ipython3",
   "version": "3.8.3"
  }
 },
 "nbformat": 4,
 "nbformat_minor": 4
}
