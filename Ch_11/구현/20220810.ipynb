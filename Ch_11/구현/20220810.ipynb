{
 "cells": [
  {
   "cell_type": "markdown",
   "id": "0adac80a",
   "metadata": {},
   "source": [
    "# Q07.럭키 스트레이트"
   ]
  },
  {
   "cell_type": "code",
   "execution_count": 4,
   "id": "00610a28",
   "metadata": {
    "scrolled": true
   },
   "outputs": [
    {
     "name": "stdout",
     "output_type": "stream",
     "text": [
      "11\n",
      "LUCKY\n"
     ]
    }
   ],
   "source": [
    "# 솔브 9분 걸림\n",
    "\n",
    "N=input()\n",
    "\n",
    "N_left=list(map(int,N[0:len(N)//2]))\n",
    "N_right=list(map(int,N[len(N)//2:len(N)]))\n",
    "\n",
    "if sum(N_left)==sum(N_right):\n",
    "    print('LUCKY')\n",
    "else:\n",
    "    print('READY')"
   ]
  },
  {
   "cell_type": "markdown",
   "id": "125c8818",
   "metadata": {},
   "source": [
    "- A07"
   ]
  },
  {
   "cell_type": "code",
   "execution_count": 5,
   "id": "c7081d31",
   "metadata": {},
   "outputs": [
    {
     "name": "stdout",
     "output_type": "stream",
     "text": [
      "\n",
      "LUCKY\n"
     ]
    }
   ],
   "source": [
    "n=input()\n",
    "length=len(n)\n",
    "summary=0\n",
    "\n",
    "for i in range(length//2):\n",
    "    summary+=int(n(i))\n",
    "    \n",
    "for i in range(length//2, length):\n",
    "    summary-=int(n[i])\n",
    "    \n",
    "if summary==0:\n",
    "    print('LUCKY')\n",
    "else:\n",
    "    print('READY')"
   ]
  },
  {
   "cell_type": "markdown",
   "id": "86520ba1",
   "metadata": {},
   "source": [
    "# Q08.문자열 재정렬"
   ]
  },
  {
   "cell_type": "code",
   "execution_count": 8,
   "id": "b77f2832",
   "metadata": {},
   "outputs": [
    {
     "name": "stdout",
     "output_type": "stream",
     "text": [
      "AJKDLSI412K4JSJ9D\n",
      "ADDIJJJKKLSS20\n"
     ]
    }
   ],
   "source": [
    "# 솔브 10분 15초\n",
    "\n",
    "S=input()\n",
    "\n",
    "alphas=[]\n",
    "nums=0\n",
    "comp_A=ord('A')\n",
    "comp_Z=ord('Z')\n",
    "\n",
    "for cookie in S:\n",
    "    if comp_A <= ord(cookie) <= comp_Z:\n",
    "        alphas.append(cookie)\n",
    "    else:\n",
    "        nums+=int(cookie)\n",
    "        \n",
    "alphas.sort()\n",
    "\n",
    "print(''.join(alphas)+str(nums))"
   ]
  },
  {
   "cell_type": "markdown",
   "id": "a337fb02",
   "metadata": {},
   "source": [
    "- A08"
   ]
  },
  {
   "cell_type": "code",
   "execution_count": 9,
   "id": "651773cd",
   "metadata": {},
   "outputs": [
    {
     "name": "stdout",
     "output_type": "stream",
     "text": [
      "2123\n",
      "8\n"
     ]
    }
   ],
   "source": [
    "data=input()\n",
    "result=[]\n",
    "value=0\n",
    "\n",
    "for x in data:\n",
    "    if x.isalpha():\n",
    "        result.append(x)\n",
    "    else:\n",
    "        value+=int(x)\n",
    "        \n",
    "result.sort()\n",
    "\n",
    "if value!=0:\n",
    "    result.append(str(value))\n",
    "    \n",
    "print(''.join(result))"
   ]
  },
  {
   "cell_type": "markdown",
   "id": "f7ae49bc",
   "metadata": {},
   "source": [
    "# Q9.문자열 압축"
   ]
  },
  {
   "cell_type": "code",
   "execution_count": null,
   "id": "11c14c7d",
   "metadata": {},
   "outputs": [],
   "source": []
  }
 ],
 "metadata": {
  "kernelspec": {
   "display_name": "Python 3 (ipykernel)",
   "language": "python",
   "name": "python3"
  },
  "language_info": {
   "codemirror_mode": {
    "name": "ipython",
    "version": 3
   },
   "file_extension": ".py",
   "mimetype": "text/x-python",
   "name": "python",
   "nbconvert_exporter": "python",
   "pygments_lexer": "ipython3",
   "version": "3.9.12"
  }
 },
 "nbformat": 4,
 "nbformat_minor": 5
}
