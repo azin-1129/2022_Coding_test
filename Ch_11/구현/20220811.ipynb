{
 "cells": [
  {
   "cell_type": "markdown",
   "id": "7ff6020a",
   "metadata": {},
   "source": [
    "# Q9. 문자열 압축"
   ]
  },
  {
   "cell_type": "code",
   "execution_count": 29,
   "id": "1fd3c8df",
   "metadata": {},
   "outputs": [
    {
     "name": "stdout",
     "output_type": "stream",
     "text": [
      "aabbaccc\n",
      "len(s) 8\n",
      "string a\n",
      "1\n",
      "len(s) 8\n",
      "string a\n",
      "2\n",
      "len(s) 8\n",
      "string a\n",
      "3\n",
      "len(s) 8\n",
      "string a\n",
      "4\n",
      "len(s) 8\n",
      "string a\n",
      "1\n",
      "len(s) 8\n",
      "string a\n",
      "3\n",
      "len(s) 8\n",
      "token: bb [ 2 : 4 ]\n",
      "token: ac [ 4 : 6 ]\n",
      "string a2a1bb\n",
      "5\n",
      "len(s) 8\n",
      "token: a [ 1 : 2 ]\n",
      "token: b [ 2 : 3 ]\n",
      "token: b [ 3 : 4 ]\n",
      "token: a [ 4 : 5 ]\n",
      "token: c [ 5 : 6 ]\n",
      "token: c [ 6 : 7 ]\n",
      "token: c [ 7 : 8 ]\n",
      "token:  [ 8 : 9 ]\n",
      "string a2a2b1a3c\n",
      "8\n"
     ]
    },
    {
     "data": {
      "text/plain": [
       "1"
      ]
     },
     "execution_count": 29,
     "metadata": {},
     "output_type": "execute_result"
    }
   ],
   "source": [
    "# 연속적으로 문자열이 나타나는 여부 검사하는 걸로 수정해야하는 코드임\n",
    "\n",
    "def solution(s): \n",
    "    counts=[] # 슬라이싱 단위별 문자열 길이\n",
    "    \n",
    "    for cut in range(len(s),0,-1):\n",
    "        dictio=dict()\n",
    "        string=\"\"\n",
    "        print('len(s)',len(s))\n",
    "        comp=list(s[0:cut])\n",
    "        string+=comp[0]\n",
    "        for i in range(cut,len(s)//cut+1,cut):\n",
    "            token=s[i:i+cut]\n",
    "            print('token:',token,'[',i,':',i+cut,']') # 빈칸도 잘라내고있음\n",
    "            \n",
    "            if comp[len(comp)-1]!=token: # 다음 토큰이 이전 것과 불일치할 때\n",
    "                string+=(str(len(comp))+comp[len(comp)-1]) # 스트링에 추가\n",
    "                comp=[token] # 초기화\n",
    "            else:\n",
    "                comp.append(token)\n",
    "        print('string',string)\n",
    "        counts.append(len(string)-string.count('1')+len(s)%cut) # 1 뺀 길이\n",
    "        print(counts[len(counts)-1])\n",
    "    answer=min(counts)\n",
    "    \n",
    "    return answer\n",
    "\n",
    "solution(input())"
   ]
  }
 ],
 "metadata": {
  "kernelspec": {
   "display_name": "Python 3 (ipykernel)",
   "language": "python",
   "name": "python3"
  },
  "language_info": {
   "codemirror_mode": {
    "name": "ipython",
    "version": 3
   },
   "file_extension": ".py",
   "mimetype": "text/x-python",
   "name": "python",
   "nbconvert_exporter": "python",
   "pygments_lexer": "ipython3",
   "version": "3.9.12"
  }
 },
 "nbformat": 4,
 "nbformat_minor": 5
}
