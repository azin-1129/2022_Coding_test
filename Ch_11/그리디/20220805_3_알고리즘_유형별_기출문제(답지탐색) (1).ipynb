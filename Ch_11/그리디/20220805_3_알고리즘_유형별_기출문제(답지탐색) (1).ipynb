{
 "cells": [
  {
   "cell_type": "markdown",
   "id": "7a445ae0",
   "metadata": {},
   "source": [
    "# 11. 그리디 문제\n",
    "- 1. 모험가 길드 ( 35분 걸렸넹..)"
   ]
  },
  {
   "cell_type": "code",
   "execution_count": 12,
   "id": "2f241d52",
   "metadata": {},
   "outputs": [
    {
     "name": "stdout",
     "output_type": "stream",
     "text": [
      "5\n",
      "2 3 1 2 2\n",
      "fear: [3, 2, 2, 2, 1]\n",
      "0 에서\n",
      "2 까지\n",
      "----------\n",
      "2 에서\n",
      "3 까지\n",
      "----------\n",
      "2\n"
     ]
    }
   ],
   "source": [
    "N=int(input())\n",
    "fear=list(map(int, input().split()))\n",
    "\n",
    "fear.sort(reverse=True)\n",
    "idx=0\n",
    "count=0\n",
    "\n",
    "print('fear:',fear)\n",
    "\n",
    "while True:\n",
    "    if idx+1>=(len(fear)-1):\n",
    "        print(count)\n",
    "        break\n",
    "        \n",
    "    print(idx,'에서')\n",
    "    idx+=fear[idx]-1\n",
    "    print(idx,'까지')\n",
    "    print('----------')\n",
    "    count+=1"
   ]
  },
  {
   "cell_type": "markdown",
   "id": "1faae2c7",
   "metadata": {},
   "source": [
    "- - A01. 모험가 길드(답안)"
   ]
  },
  {
   "cell_type": "code",
   "execution_count": null,
   "id": "625db051",
   "metadata": {},
   "outputs": [],
   "source": [
    "n=int(input())\n",
    "data=list(map(int, input().split()))\n",
    "data.sort()\n",
    "\n",
    "result=0\n",
    "count=0\n",
    "\n",
    "for i in data:\n",
    "    count+=1\n",
    "    if count>=i:\n",
    "        result+=1\n",
    "        count=0\n",
    "\n",
    "print(result)"
   ]
  },
  {
   "cell_type": "markdown",
   "id": "dc1d3a79",
   "metadata": {},
   "source": [
    "---"
   ]
  },
  {
   "cell_type": "markdown",
   "id": "31c08e75",
   "metadata": {},
   "source": [
    "- 2. 곱하기 혹은 더하기(18분)"
   ]
  },
  {
   "cell_type": "code",
   "execution_count": 14,
   "id": "624848a0",
   "metadata": {
    "scrolled": true
   },
   "outputs": [
    {
     "name": "stdout",
     "output_type": "stream",
     "text": [
      "567\n",
      "210\n"
     ]
    }
   ],
   "source": [
    "S=input()\n",
    "res=1\n",
    "\n",
    "for str_int in S:\n",
    "    if int(str_int)==0:\n",
    "        continue\n",
    "        \n",
    "    res*=int(str_int)\n",
    "    \n",
    "print(res)"
   ]
  },
  {
   "cell_type": "markdown",
   "id": "682e3ff5",
   "metadata": {},
   "source": [
    "- - A02. 곱하기 혹은 더하기(답지)"
   ]
  },
  {
   "cell_type": "code",
   "execution_count": null,
   "id": "f2cb62a7",
   "metadata": {},
   "outputs": [],
   "source": [
    "data=input()\n",
    "\n",
    "result=int(data[0])\n",
    "\n",
    "for i in range(1, len(data)):\n",
    "    num=int(data[i])\n",
    "    \n",
    "    if num<=1 or result<=1: # 두수 중 하나라도 1 이하일 때의 연산은 +, 이외 *\n",
    "        result+=num\n",
    "    else:\n",
    "        result+=num\n",
    "        \n",
    "print(result)"
   ]
  },
  {
   "cell_type": "markdown",
   "id": "6b906745",
   "metadata": {},
   "source": [
    "---"
   ]
  },
  {
   "cell_type": "markdown",
   "id": "ad02d685",
   "metadata": {},
   "source": [
    "- 3. 문자열 뒤집기 (20분 초과했당)"
   ]
  },
  {
   "cell_type": "code",
   "execution_count": 27,
   "id": "74c722df",
   "metadata": {
    "scrolled": true
   },
   "outputs": [
    {
     "name": "stdout",
     "output_type": "stream",
     "text": [
      "00110101010101000101001010101\n",
      "[12, 12]\n",
      "12\n"
     ]
    }
   ],
   "source": [
    "S=input()\n",
    "count=[0,0]\n",
    "\n",
    "S=list(map(int,S)) # 숫자 리스트로 변환\n",
    "temp=S[0]\n",
    "\n",
    "for i in range(len(S)):\n",
    "    if S[i]!=temp:\n",
    "        count[temp]+=1\n",
    "        temp=S[i]\n",
    "        \n",
    "    if i==(len(S)-1):\n",
    "        count[temp]+=1\n",
    "            \n",
    "print(count)\n",
    "\n",
    "print(min(count))"
   ]
  },
  {
   "cell_type": "markdown",
   "id": "9fbaa2b5",
   "metadata": {},
   "source": [
    "- - A03. 문자열 뒤집기(답지)"
   ]
  },
  {
   "cell_type": "code",
   "execution_count": 2,
   "id": "20f2e37b",
   "metadata": {
    "scrolled": true
   },
   "outputs": [
    {
     "name": "stdout",
     "output_type": "stream",
     "text": [
      "00110101010101000101001010101\n",
      "12 12\n",
      "12\n"
     ]
    }
   ],
   "source": [
    "data=input()\n",
    "count0=0 # 0 으로 교체\n",
    "count1=0 # 1로 교체\n",
    "\n",
    "if data[0]=='1':\n",
    "    count0+=1\n",
    "else:\n",
    "    count1+=1\n",
    "\n",
    "for i in range(len(data)-1): # i+1이 딱 data 끝 인덱스로 끝남\n",
    "    if data[i]!=data[i+1]: # 값 교체 시\n",
    "        if data[i+1]=='1':\n",
    "            count0+=1\n",
    "        else:\n",
    "            count1+=1\n",
    "            \n",
    "print(count0, count1)\n",
    "print(min (count0, count1))"
   ]
  },
  {
   "cell_type": "markdown",
   "id": "580a8422",
   "metadata": {},
   "source": [
    "---"
   ]
  },
  {
   "cell_type": "markdown",
   "id": "6e3c676c",
   "metadata": {},
   "source": [
    "- 4. 만들 수 없는 금액 (30분 넘어버린)"
   ]
  },
  {
   "cell_type": "code",
   "execution_count": 33,
   "id": "e76d8891",
   "metadata": {
    "scrolled": true
   },
   "outputs": [
    {
     "name": "stdout",
     "output_type": "stream",
     "text": [
      "5\n",
      "3 2 1 1 9\n",
      "찾은 조합 [(1,), (2,), (1, 1), (3,), (1, 2), (2, 1), (1, 1, 2), (3, 1), (1, 3), (1, 2, 1), (2, 1, 1), (1, 3, 1), (3, 1, 1), (3, 2), (2, 3), (1, 1, 3), (3, 2, 1), (1, 3, 2), (3, 1, 2), (1, 2, 3), (2, 3, 1), (2, 1, 3), (1, 1, 2, 3), (2, 1, 3, 1), (1, 2, 1, 3), (3, 1, 1, 2), (2, 1, 1, 3), (2, 3, 1, 1), (1, 1, 3, 2), (1, 2, 3, 1), (3, 1, 2, 1), (3, 2, 1, 1), (1, 3, 2, 1), (1, 3, 1, 2), (9,), (9, 1), (1, 9), (9, 1, 1), (1, 1, 9), (9, 2), (1, 9, 1), (2, 9), (9, 3), (2, 9, 1), (9, 1, 2), (9, 2, 1), (3, 9), (1, 2, 9), (2, 1, 9), (1, 9, 2), (1, 3, 9), (9, 1, 3), (1, 1, 9, 2), (3, 1, 9), (3, 9, 1), (1, 9, 1, 2), (1, 9, 2, 1), (1, 2, 1, 9), (2, 9, 1, 1), (2, 1, 1, 9), (9, 3, 1), (1, 1, 2, 9), (9, 1, 1, 2), (9, 1, 2, 1), (1, 2, 9, 1), (1, 9, 3), (2, 1, 9, 1), (9, 2, 1, 1), (3, 1, 1, 9), (1, 3, 9, 1), (9, 3, 2), (1, 1, 3, 9), (9, 1, 3, 1), (3, 1, 9, 1), (9, 3, 1, 1), (9, 1, 1, 3), (2, 9, 3), (9, 2, 3), (1, 1, 9, 3), (3, 2, 9), (1, 9, 3, 1), (1, 9, 1, 3), (3, 9, 1, 1), (2, 3, 9), (3, 9, 2), (1, 3, 1, 9), (2, 1, 9, 3), (9, 2, 1, 3), (1, 2, 3, 9), (3, 1, 2, 9), (2, 9, 3, 1), (3, 9, 1, 2), (1, 9, 3, 2), (1, 9, 2, 3), (2, 1, 3, 9), (3, 9, 2, 1), (2, 9, 1, 3), (3, 2, 1, 9), (1, 3, 2, 9), (2, 3, 1, 9), (9, 1, 3, 2), (3, 1, 9, 2), (9, 1, 2, 3), (1, 2, 9, 3), (9, 2, 3, 1), (3, 2, 9, 1), (1, 3, 9, 2), (2, 3, 9, 1), (9, 3, 2, 1), (9, 3, 1, 2), (2, 9, 1, 1, 3), (1, 1, 3, 9, 2), (9, 1, 2, 3, 1), (9, 2, 1, 1, 3), (1, 2, 3, 9, 1), (1, 9, 1, 2, 3), (9, 3, 2, 1, 1), (1, 9, 2, 3, 1), (9, 1, 2, 1, 3), (1, 3, 2, 9, 1), (2, 1, 3, 9, 1), (3, 1, 2, 1, 9), (3, 9, 1, 1, 2), (3, 2, 9, 1, 1), (9, 2, 3, 1, 1), (3, 1, 1, 2, 9), (2, 1, 1, 9, 3), (9, 3, 1, 1, 2), (1, 3, 1, 2, 9), (1, 1, 9, 3, 2), (2, 1, 9, 3, 1), (3, 1, 2, 9, 1), (1, 9, 2, 1, 3), (9, 2, 1, 3, 1), (2, 9, 3, 1, 1), (3, 1, 9, 1, 2), (3, 1, 9, 2, 1), (9, 3, 1, 2, 1), (3, 1, 1, 9, 2), (1, 1, 2, 9, 3), (1, 2, 1, 3, 9), (9, 1, 3, 1, 2), (9, 1, 3, 2, 1), (1, 3, 9, 1, 2), (1, 2, 1, 9, 3), (1, 1, 9, 2, 3), (1, 2, 9, 3, 1), (1, 3, 1, 9, 2), (3, 9, 2, 1, 1), (1, 9, 3, 2, 1), (1, 2, 9, 1, 3), (3, 2, 1, 1, 9), (1, 9, 3, 1, 2), (2, 9, 1, 3, 1), (2, 3, 1, 1, 9), (2, 1, 1, 3, 9), (9, 1, 1, 3, 2), (2, 3, 1, 9, 1), (1, 1, 2, 3, 9), (2, 1, 9, 1, 3), (9, 1, 1, 2, 3), (1, 1, 3, 2, 9), (2, 3, 9, 1, 1), (1, 3, 9, 2, 1), (1, 9, 1, 3, 2), (1, 2, 3, 1, 9), (2, 1, 3, 1, 9), (1, 3, 2, 1, 9), (3, 9, 1, 2, 1), (3, 2, 1, 9, 1)]\n",
      "8\n"
     ]
    }
   ],
   "source": [
    "from itertools import permutations\n",
    "\n",
    "N=int(input())\n",
    "coins=list(map(int,input().split()))\n",
    "partners=[]\n",
    "compare=[False for _ in range(0,sum(coins)+1)]\n",
    "compare[0]=True\n",
    "\n",
    "for i in range(1,N+1):\n",
    "    partners+=list(permutations(coins,i))\n",
    "    \n",
    "partners=sorted(list(set(partners)),key=lambda x:sum(x))\n",
    "\n",
    "print('찾은 조합',partners)\n",
    "\n",
    "for comparing in partners:\n",
    "    if compare[sum(comparing)]==True:\n",
    "        continue\n",
    "        \n",
    "    compare[sum(comparing)]=True\n",
    "\n",
    "print(compare.index(False))\n"
   ]
  },
  {
   "cell_type": "markdown",
   "id": "743042c5",
   "metadata": {},
   "source": [
    "- - A04.py 답안 예"
   ]
  },
  {
   "cell_type": "code",
   "execution_count": 36,
   "id": "cf8c2d73",
   "metadata": {},
   "outputs": [
    {
     "name": "stdout",
     "output_type": "stream",
     "text": [
      "5\n",
      "3 2 1 1 9\n",
      "8\n"
     ]
    }
   ],
   "source": [
    "n=int(input())\n",
    "data=list(map(int, input().split()))\n",
    "data.sort() # 화폐 정렬\n",
    "\n",
    "#target=1\n",
    "\n",
    "compare=1\n",
    "\n",
    "#for x in data:\n",
    "for coin in data:\n",
    "    \n",
    "    if compare<coin:\n",
    "        compare-=coin\n",
    "        break\n",
    "    else:\n",
    "        compare+=coin\n",
    "    #if target<x:\n",
    "    #    break\n",
    "        \n",
    "    #target+=x\n",
    "    \n",
    "print(target)"
   ]
  }
 ],
 "metadata": {
  "kernelspec": {
   "display_name": "Python 3 (ipykernel)",
   "language": "python",
   "name": "python3"
  },
  "language_info": {
   "codemirror_mode": {
    "name": "ipython",
    "version": 3
   },
   "file_extension": ".py",
   "mimetype": "text/x-python",
   "name": "python",
   "nbconvert_exporter": "python",
   "pygments_lexer": "ipython3",
   "version": "3.9.12"
  }
 },
 "nbformat": 4,
 "nbformat_minor": 5
}
