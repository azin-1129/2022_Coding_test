{
 "cells": [
  {
   "cell_type": "markdown",
   "id": "df1de9a1",
   "metadata": {},
   "source": [
    "### Q05.볼링공 고르기 (24분 걸림)"
   ]
  },
  {
   "cell_type": "code",
   "execution_count": 2,
   "id": "5a62b2dd",
   "metadata": {},
   "outputs": [
    {
     "name": "stdout",
     "output_type": "stream",
     "text": [
      "8 5\n",
      "1 5 4 3 2 4 5 2\n",
      "25\n"
     ]
    }
   ],
   "source": [
    "from itertools import combinations\n",
    "\n",
    "N,M=map(int, input().split())\n",
    "K=list(map(int,input().split()))\n",
    "\n",
    "gongs=combinations(K,2)\n",
    "\n",
    "count=0\n",
    "\n",
    "for g1,g2 in gongs:\n",
    "    if g1==g2:\n",
    "        continue\n",
    "        \n",
    "    count+=1\n",
    "    \n",
    "print(count)"
   ]
  },
  {
   "cell_type": "markdown",
   "id": "30e4b033",
   "metadata": {},
   "source": [
    "- A05.py 답안 예시"
   ]
  },
  {
   "cell_type": "code",
   "execution_count": null,
   "id": "4cd837f4",
   "metadata": {},
   "outputs": [],
   "source": [
    "n,m=map(int,input().split())\n",
    "data=list(map(int,input().split()))\n",
    "\n",
    "array=[0]*11 # 1~10 무게\n",
    "\n",
    "for x in data:\n",
    "    array[x]+=1 # 각 무게마다 공 개수\n",
    "    \n",
    "result=0\n",
    "\n",
    "for i in range(1,m+1):\n",
    "    n-=array[i] # n은 공개수\n",
    "    result+=array[i]*n\n",
    "    \n",
    "print(result)"
   ]
  },
  {
   "cell_type": "markdown",
   "id": "3a2fcb8d",
   "metadata": {},
   "source": [
    "### A06.무지의 먹방쇼"
   ]
  },
  {
   "cell_type": "code",
   "execution_count": 17,
   "id": "a267f42a",
   "metadata": {},
   "outputs": [
    {
     "name": "stdout",
     "output_type": "stream",
     "text": [
      "0\n",
      "섭취\n",
      "1\n",
      "섭취\n",
      "2\n",
      "섭취\n",
      "0\n",
      "섭취\n",
      "1\n",
      "2\n",
      "섭취\n",
      "index: 2\n",
      "idx: 0\n"
     ]
    },
    {
     "data": {
      "text/plain": [
       "1"
      ]
     },
     "execution_count": 17,
     "metadata": {},
     "output_type": "execute_result"
    }
   ],
   "source": [
    "def solution(food_times, k):\n",
    "    answer = 0\n",
    "    n=len(food_times)\n",
    "    sec=0\n",
    "    index=0\n",
    "    \n",
    "    while sec<=k:\n",
    "        index=sec%n\n",
    "        print(index)\n",
    "\n",
    "        if food_times[index]==0:\n",
    "            sec+=1\n",
    "            continue\n",
    "            \n",
    "        food_times[index]-=1\n",
    "        print('섭취')\n",
    "        sec+=1\n",
    "        \n",
    "    print('index:',index)\n",
    "    if sum(food_times)==0:\n",
    "        answer= -1\n",
    "    else:\n",
    "        for sec in range((index+1)%n,(n+index)%n):\n",
    "            idx=sec%n\n",
    "            print('idx:',idx)\n",
    "            if food_times[idx]>=1:\n",
    "                return idx+1\n",
    "            \n",
    "    return answer\n",
    "\n",
    "solution([3,1,2],5) # 이 케이스에서만 맞는듯. 테스트 말아먹음"
   ]
  },
  {
   "cell_type": "markdown",
   "id": "f38bed73",
   "metadata": {},
   "source": [
    "- A06.py 답안 예시"
   ]
  },
  {
   "cell_type": "code",
   "execution_count": 20,
   "id": "fc722969",
   "metadata": {},
   "outputs": [
    {
     "name": "stdout",
     "output_type": "stream",
     "text": [
      "now: 1 sum_value: 3 length: 2 previous: 1\n",
      "now: 2 sum_value: 5 length: 1 previous: 2\n"
     ]
    },
    {
     "data": {
      "text/plain": [
       "1"
      ]
     },
     "execution_count": 20,
     "metadata": {},
     "output_type": "execute_result"
    }
   ],
   "source": [
    "import heapq\n",
    "\n",
    "def solution(food_times, k):\n",
    "    if sum(food_times)<=k:\n",
    "        return -1\n",
    "    \n",
    "    q=[]\n",
    "    \n",
    "    for i in range(len(food_times)):\n",
    "        heapq.heappush(q, (food_times[i],i+1)) # (섭취 시간, 번호)\n",
    "        \n",
    "    sum_value=0 # 먹으려고 쓴 시간\n",
    "    previous=0 # 직전에 다 먹은 음식 시간\n",
    "    length=len(food_times) # 남은 음식 수\n",
    "    \n",
    "    while sum_value+( (q[0][0]-previous)*length)<=k: # sum_value+(현재 섭취-이전 섭취)*현 음식 수\n",
    "        now=heapq.heappop(q)[0]\n",
    "        sum_value+=(now-previous)*length\n",
    "        length-=1 # 다 먹은 음식 제외\n",
    "        previous=now # 이전 음식 시간 재설정\n",
    "        print('now:',now,'sum_value:',sum_value,'length:',length,'previous:',previous)\n",
    "        \n",
    "\n",
    "    result=sorted(q,key=lambda x:x[1])\n",
    "    return result[(k-sum_value)%length][1]\n",
    "\n",
    "solution([3,1,2],5)"
   ]
  },
  {
   "cell_type": "code",
   "execution_count": null,
   "id": "58eaf134",
   "metadata": {},
   "outputs": [],
   "source": []
  }
 ],
 "metadata": {
  "kernelspec": {
   "display_name": "Python 3 (ipykernel)",
   "language": "python",
   "name": "python3"
  },
  "language_info": {
   "codemirror_mode": {
    "name": "ipython",
    "version": 3
   },
   "file_extension": ".py",
   "mimetype": "text/x-python",
   "name": "python",
   "nbconvert_exporter": "python",
   "pygments_lexer": "ipython3",
   "version": "3.9.12"
  }
 },
 "nbformat": 4,
 "nbformat_minor": 5
}
