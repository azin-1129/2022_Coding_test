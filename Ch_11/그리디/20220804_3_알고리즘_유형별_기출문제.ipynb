{
 "cells": [
  {
   "cell_type": "markdown",
   "id": "7a445ae0",
   "metadata": {},
   "source": [
    "# 11. 그리디 문제\n",
    "- 1. 모험가 길드 ( 35분 걸렸넹..)"
   ]
  },
  {
   "cell_type": "code",
   "execution_count": 12,
   "id": "2f241d52",
   "metadata": {},
   "outputs": [
    {
     "name": "stdout",
     "output_type": "stream",
     "text": [
      "5\n",
      "2 3 1 2 2\n",
      "fear: [3, 2, 2, 2, 1]\n",
      "0 에서\n",
      "2 까지\n",
      "----------\n",
      "2 에서\n",
      "3 까지\n",
      "----------\n",
      "2\n"
     ]
    }
   ],
   "source": [
    "N=int(input())\n",
    "fear=list(map(int, input().split()))\n",
    "\n",
    "fear.sort(reverse=True)\n",
    "idx=0\n",
    "count=0\n",
    "\n",
    "print('fear:',fear)\n",
    "\n",
    "while True:\n",
    "    if idx+1>=(len(fear)-1):\n",
    "        print(count)\n",
    "        break\n",
    "        \n",
    "    print(idx,'에서')\n",
    "    idx+=fear[idx]-1\n",
    "    print(idx,'까지')\n",
    "    print('----------')\n",
    "    count+=1"
   ]
  },
  {
   "cell_type": "markdown",
   "id": "31c08e75",
   "metadata": {},
   "source": [
    "- 2. 곱하기 혹은 더하기(18분)"
   ]
  },
  {
   "cell_type": "code",
   "execution_count": 14,
   "id": "624848a0",
   "metadata": {},
   "outputs": [
    {
     "name": "stdout",
     "output_type": "stream",
     "text": [
      "567\n",
      "210\n"
     ]
    }
   ],
   "source": [
    "S=input()\n",
    "res=1\n",
    "\n",
    "for str_int in S:\n",
    "    if int(str_int)==0:\n",
    "        continue\n",
    "        \n",
    "    res*=int(str_int)\n",
    "    \n",
    "print(res)"
   ]
  },
  {
   "cell_type": "markdown",
   "id": "ad02d685",
   "metadata": {},
   "source": [
    "- 3. 문자열 뒤집기 (20분 초과했당)"
   ]
  },
  {
   "cell_type": "code",
   "execution_count": 27,
   "id": "74c722df",
   "metadata": {},
   "outputs": [
    {
     "name": "stdout",
     "output_type": "stream",
     "text": [
      "00110101010101000101001010101\n",
      "[12, 12]\n",
      "12\n"
     ]
    }
   ],
   "source": [
    "S=input()\n",
    "count=[0,0]\n",
    "\n",
    "S=list(map(int,S)) # 숫자 리스트로 변환\n",
    "temp=S[0]\n",
    "\n",
    "for i in range(len(S)):\n",
    "    if S[i]!=temp:\n",
    "        count[temp]+=1\n",
    "        temp=S[i]\n",
    "        \n",
    "    if i==(len(S)-1):\n",
    "        count[temp]+=1\n",
    "            \n",
    "print(count)\n",
    "\n",
    "print(min(count))"
   ]
  },
  {
   "cell_type": "markdown",
   "id": "6e3c676c",
   "metadata": {},
   "source": [
    "- 4. 만들 수 없는 금액 (30분 넘어버린)"
   ]
  },
  {
   "cell_type": "code",
   "execution_count": 13,
   "id": "e76d8891",
   "metadata": {},
   "outputs": [
    {
     "name": "stdout",
     "output_type": "stream",
     "text": [
      "5\n",
      "3 2 1 1 9\n"
     ]
    },
    {
     "ename": "TypeError",
     "evalue": "'builtin_function_or_method' object is not subscriptable",
     "output_type": "error",
     "traceback": [
      "\u001b[1;31m---------------------------------------------------------------------------\u001b[0m",
      "\u001b[1;31mTypeError\u001b[0m                                 Traceback (most recent call last)",
      "Input \u001b[1;32mIn [13]\u001b[0m, in \u001b[0;36m<cell line: 10>\u001b[1;34m()\u001b[0m\n\u001b[0;32m      7\u001b[0m \u001b[38;5;28;01mfor\u001b[39;00m i \u001b[38;5;129;01min\u001b[39;00m \u001b[38;5;28mrange\u001b[39m(\u001b[38;5;241m1\u001b[39m,N\u001b[38;5;241m+\u001b[39m\u001b[38;5;241m1\u001b[39m):\n\u001b[0;32m      8\u001b[0m     partners\u001b[38;5;241m+\u001b[39m\u001b[38;5;241m=\u001b[39m\u001b[38;5;28msorted\u001b[39m(\u001b[38;5;28mlist\u001b[39m(permutations(coins,i)))\n\u001b[1;32m---> 10\u001b[0m partners\u001b[38;5;241m=\u001b[39m\u001b[38;5;28;43msorted\u001b[39;49m\u001b[43m(\u001b[49m\u001b[38;5;28;43mlist\u001b[39;49m\u001b[43m(\u001b[49m\u001b[38;5;28;43mset\u001b[39;49m\u001b[43m(\u001b[49m\u001b[43mpartners\u001b[49m\u001b[43m)\u001b[49m\u001b[43m)\u001b[49m\u001b[43m,\u001b[49m\u001b[43mkey\u001b[49m\u001b[38;5;241;43m=\u001b[39;49m\u001b[38;5;28;43;01mlambda\u001b[39;49;00m\u001b[43m \u001b[49m\u001b[43mx\u001b[49m\u001b[43m:\u001b[49m\u001b[38;5;28;43msum\u001b[39;49m\u001b[43m[\u001b[49m\u001b[43mx\u001b[49m\u001b[43m]\u001b[49m\u001b[43m)\u001b[49m\n\u001b[0;32m     12\u001b[0m \u001b[38;5;28mprint\u001b[39m(\u001b[38;5;124m'\u001b[39m\u001b[38;5;124m찾은 조합\u001b[39m\u001b[38;5;124m'\u001b[39m,partners)\n\u001b[0;32m     14\u001b[0m \u001b[38;5;28;01mfor\u001b[39;00m i \u001b[38;5;129;01min\u001b[39;00m \u001b[38;5;28mrange\u001b[39m(\u001b[38;5;241m1\u001b[39m, \u001b[38;5;28msum\u001b[39m(partners[\u001b[38;5;28mlen\u001b[39m(partners)\u001b[38;5;241m-\u001b[39m\u001b[38;5;241m1\u001b[39m])):\n",
      "Input \u001b[1;32mIn [13]\u001b[0m, in \u001b[0;36m<lambda>\u001b[1;34m(x)\u001b[0m\n\u001b[0;32m      7\u001b[0m \u001b[38;5;28;01mfor\u001b[39;00m i \u001b[38;5;129;01min\u001b[39;00m \u001b[38;5;28mrange\u001b[39m(\u001b[38;5;241m1\u001b[39m,N\u001b[38;5;241m+\u001b[39m\u001b[38;5;241m1\u001b[39m):\n\u001b[0;32m      8\u001b[0m     partners\u001b[38;5;241m+\u001b[39m\u001b[38;5;241m=\u001b[39m\u001b[38;5;28msorted\u001b[39m(\u001b[38;5;28mlist\u001b[39m(permutations(coins,i)))\n\u001b[1;32m---> 10\u001b[0m partners\u001b[38;5;241m=\u001b[39m\u001b[38;5;28msorted\u001b[39m(\u001b[38;5;28mlist\u001b[39m(\u001b[38;5;28mset\u001b[39m(partners)),key\u001b[38;5;241m=\u001b[39m\u001b[38;5;28;01mlambda\u001b[39;00m x:\u001b[38;5;28;43msum\u001b[39;49m\u001b[43m[\u001b[49m\u001b[43mx\u001b[49m\u001b[43m]\u001b[49m)\n\u001b[0;32m     12\u001b[0m \u001b[38;5;28mprint\u001b[39m(\u001b[38;5;124m'\u001b[39m\u001b[38;5;124m찾은 조합\u001b[39m\u001b[38;5;124m'\u001b[39m,partners)\n\u001b[0;32m     14\u001b[0m \u001b[38;5;28;01mfor\u001b[39;00m i \u001b[38;5;129;01min\u001b[39;00m \u001b[38;5;28mrange\u001b[39m(\u001b[38;5;241m1\u001b[39m, \u001b[38;5;28msum\u001b[39m(partners[\u001b[38;5;28mlen\u001b[39m(partners)\u001b[38;5;241m-\u001b[39m\u001b[38;5;241m1\u001b[39m])):\n",
      "\u001b[1;31mTypeError\u001b[0m: 'builtin_function_or_method' object is not subscriptable"
     ]
    }
   ],
   "source": [
    "from itertools import permutations\n",
    "\n",
    "N=int(input())\n",
    "coins=list(map(int,input().split()))\n",
    "partners=[]\n",
    "\n",
    "for i in range(1,N+1):\n",
    "    partners+=sorted(list(permutations(coins,i)))\n",
    "    \n",
    "partners=sorted(list(set(partners)),key=lambda x:sum[x])\n",
    "\n",
    "print('찾은 조합',partners)\n",
    "\n",
    "for i in range(1, sum(partners[len(partners)-1])):\n",
    "    if i!=sum(partners[i]):\n",
    "        print(i)\n",
    "        break"
   ]
  },
  {
   "cell_type": "code",
   "execution_count": null,
   "id": "cf8c2d73",
   "metadata": {},
   "outputs": [],
   "source": []
  }
 ],
 "metadata": {
  "kernelspec": {
   "display_name": "Python 3 (ipykernel)",
   "language": "python",
   "name": "python3"
  },
  "language_info": {
   "codemirror_mode": {
    "name": "ipython",
    "version": 3
   },
   "file_extension": ".py",
   "mimetype": "text/x-python",
   "name": "python",
   "nbconvert_exporter": "python",
   "pygments_lexer": "ipython3",
   "version": "3.10.5"
  }
 },
 "nbformat": 4,
 "nbformat_minor": 5
}
