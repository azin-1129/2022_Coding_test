{
 "cells": [
  {
   "cell_type": "markdown",
   "id": "e7ff018c",
   "metadata": {},
   "source": [
    "### 1. 범위를 반씩 좁혀가는 탐색"
   ]
  },
  {
   "cell_type": "markdown",
   "id": "4edb19d4",
   "metadata": {},
   "source": [
    "- 순차 탐색"
   ]
  },
  {
   "cell_type": "code",
   "execution_count": 1,
   "id": "a58d5b51",
   "metadata": {},
   "outputs": [
    {
     "name": "stdout",
     "output_type": "stream",
     "text": [
      "3 파괴\n",
      "스코프 핫코 파괴\n",
      "3\n"
     ]
    }
   ],
   "source": [
    "def sequential_search(n, target, array):\n",
    "    for i in range(n):\n",
    "        if array[i]==target:\n",
    "            return i+1\n",
    "        \n",
    "input_data=input().split()\n",
    "n=int(input_data[0])\n",
    "target=input_data[1]\n",
    "\n",
    "array=input().split()\n",
    "\n",
    "print(sequential_search(n, target, array))"
   ]
  },
  {
   "cell_type": "markdown",
   "id": "4ab7e3a9",
   "metadata": {},
   "source": [
    "- 이진 탐색: 반으로 쪼개면서 탐색하기"
   ]
  },
  {
   "cell_type": "markdown",
   "id": "bd158e2e",
   "metadata": {},
   "source": [
    "- - 재귀 함수 구현"
   ]
  },
  {
   "cell_type": "code",
   "execution_count": 2,
   "id": "1c7b2ae5",
   "metadata": {},
   "outputs": [
    {
     "name": "stdout",
     "output_type": "stream",
     "text": [
      "10 7\n",
      "1 3 5 7 9 11 13 15 17 19\n",
      "4\n"
     ]
    }
   ],
   "source": [
    " def binary_search(array, target, start, end):\n",
    "    if start>end:\n",
    "        return None\n",
    "        \n",
    "    mid=(start+end)//2\n",
    "        \n",
    "    if array[mid]==target:\n",
    "        return mid\n",
    "    elif array[mid]>target:\n",
    "        return binary_search(array, target, start, mid-1)\n",
    "    else:\n",
    "        return binary_search(array, target, mid+1, end)\n",
    "    \n",
    "n, target=list(map(int,input().split()))\n",
    "array=list(map(int,input().split()))\n",
    "\n",
    "result=binary_search(array, target, 0, n-1)\n",
    "if result==None:\n",
    "    print('x')\n",
    "else:\n",
    "    print(result+1)"
   ]
  },
  {
   "cell_type": "markdown",
   "id": "0b897476",
   "metadata": {},
   "source": [
    "- - 반복문 구현"
   ]
  },
  {
   "cell_type": "code",
   "execution_count": 19,
   "id": "b770a146",
   "metadata": {},
   "outputs": [
    {
     "name": "stdout",
     "output_type": "stream",
     "text": [
      "9 10\n",
      "2 4 6 8 10 12 14 16 18\n",
      "5\n"
     ]
    }
   ],
   "source": [
    "def binary_search(array, target, start, end):\n",
    "    while start<=end:\n",
    "        mid=(start+end)//2\n",
    "        if array[mid]==target:\n",
    "            return mid\n",
    "        elif array[mid]>target:\n",
    "            end=mid-1\n",
    "        else:\n",
    "            start=mid+1\n",
    "    return None\n",
    "\n",
    "n, target=list(map(int,input().split())) # 원소 수, 탐색 데이터\n",
    "array=list(map(int,input().split())) # 데이터\n",
    "\n",
    "result=binary_search(array, target, 0, n-1)\n",
    "if result==None:\n",
    "    print('x')\n",
    "else:\n",
    "    print(result+1)"
   ]
  },
  {
   "cell_type": "markdown",
   "id": "c829345a",
   "metadata": {},
   "source": [
    "- 트리 자료구조"
   ]
  },
  {
   "cell_type": "markdown",
   "id": "3d60285b",
   "metadata": {},
   "source": [
    "- - 빠르게 입력받기"
   ]
  },
  {
   "cell_type": "code",
   "execution_count": 6,
   "id": "5eb17fb5",
   "metadata": {},
   "outputs": [
    {
     "name": "stdout",
     "output_type": "stream",
     "text": [
      "\n"
     ]
    }
   ],
   "source": [
    "import sys\n",
    "\n",
    "input_data=sys.stdin.readline().rstrip()\n",
    "\n",
    "print(input_data)"
   ]
  },
  {
   "cell_type": "markdown",
   "id": "eeaf34c5",
   "metadata": {},
   "source": [
    "### 실전 문제"
   ]
  },
  {
   "cell_type": "markdown",
   "id": "8e46563b",
   "metadata": {},
   "source": [
    "- 2. 부품 찾기"
   ]
  },
  {
   "cell_type": "code",
   "execution_count": 20,
   "id": "9f9874ac",
   "metadata": {},
   "outputs": [
    {
     "name": "stdout",
     "output_type": "stream",
     "text": [
      "5\n",
      "8 3 7 9 2\n",
      "3\n",
      "5 7 9\n",
      "no yes yes "
     ]
    }
   ],
   "source": [
    "def binary(start, end, array, target):\n",
    "    #print('binary','start:',start,'end:',end,array,target,'실행')\n",
    "    mid=start+round((end-start)/2) # start+end였구나..\n",
    "    if start>end:\n",
    "        print('no',end=' ')\n",
    "        return 0\n",
    "    \n",
    "    if array[mid]==target:\n",
    "        #print(mid,array[mid],'는',target,'과 일치')\n",
    "        print('yes',end=' ')\n",
    "        return 0\n",
    "    elif array[mid]>target:\n",
    "        #print(mid,'번째 값',array[mid],'이 타겟',target,'보다 큼')\n",
    "        binary(start, mid-1, array, target)\n",
    "    else:\n",
    "        #print(mid,'번째 값',array[mid],'이 타겟',target,'보다 작음')\n",
    "        binary(mid+1, end, array, target)\n",
    "\n",
    "N=int(input())\n",
    "HW_arr=list(map(int, input().split()))\n",
    "HW_arr.sort()\n",
    "\n",
    "M=int(input())\n",
    "ord_arr=list(map(int, input().split()))\n",
    "ord_arr.sort()\n",
    "\n",
    "for order in ord_arr:\n",
    "    binary(0, N-1, HW_arr, order)"
   ]
  },
  {
   "cell_type": "markdown",
   "id": "c1d12fae",
   "metadata": {},
   "source": [
    "- 답안 예시"
   ]
  },
  {
   "cell_type": "code",
   "execution_count": null,
   "id": "9c500ec6",
   "metadata": {},
   "outputs": [],
   "source": [
    "def binary_search(array, target, start, end):\n",
    "    while start<=end:\n",
    "        mid=(start+end)//2\n",
    "        \n",
    "        if array[mid]==target:\n",
    "            return mid\n",
    "        \n",
    "        elif array[mid]>target:\n",
    "            end=mid-1\n",
    "        else:\n",
    "            start=mid+1\n",
    "        \n",
    "    return None\n",
    "\n",
    "n=int(input())\n",
    "array=list(map(int,input().split()))\n",
    "array.sort()\n",
    "\n",
    "m=int(input())\n",
    "x=list(map(int,input().split()))\n",
    "\n",
    "for i in x:\n",
    "    result=binary_search(array,i,0,n-1)\n",
    "    \n",
    "    if result!=None:\n",
    "        print('yes', end=' ')\n",
    "    else:\n",
    "        print('no', end=' ')"
   ]
  },
  {
   "cell_type": "markdown",
   "id": "16fd839e",
   "metadata": {},
   "source": [
    "- 답안 예시(계수정렬)"
   ]
  },
  {
   "cell_type": "code",
   "execution_count": null,
   "id": "5668ea6c",
   "metadata": {},
   "outputs": [],
   "source": [
    "n=int(input())\n",
    "array=[0]*100001\n",
    "\n",
    "for i in input().split():\n",
    "    array[int(i)]=1\n",
    "    \n",
    "m=int(input())\n",
    "x=list(map(int,input().split()))\n",
    "\n",
    "for i in x:\n",
    "    if array[i]==1:\n",
    "        print('yes', end=' ')\n",
    "    else:\n",
    "        print('no', end=' ')"
   ]
  },
  {
   "cell_type": "markdown",
   "id": "5a28cf9f",
   "metadata": {},
   "source": [
    "- 집합 자료형 이용"
   ]
  },
  {
   "cell_type": "code",
   "execution_count": null,
   "id": "bbbabe57",
   "metadata": {},
   "outputs": [],
   "source": [
    "n=int(input())\n",
    "\n",
    "array=set(map(int,input().split()))\n",
    "\n",
    "m=int(input())\n",
    "\n",
    "x=list(map(int,input().split()))\n",
    "\n",
    "for i in x:\n",
    "    if i in array:\n",
    "        print('yes', end=' ')\n",
    "    else:\n",
    "        print('no', end=' ')"
   ]
  },
  {
   "cell_type": "code",
   "execution_count": null,
   "id": "0482ec32",
   "metadata": {},
   "outputs": [],
   "source": []
  }
 ],
 "metadata": {
  "kernelspec": {
   "display_name": "Python 3 (ipykernel)",
   "language": "python",
   "name": "python3"
  },
  "language_info": {
   "codemirror_mode": {
    "name": "ipython",
    "version": 3
   },
   "file_extension": ".py",
   "mimetype": "text/x-python",
   "name": "python",
   "nbconvert_exporter": "python",
   "pygments_lexer": "ipython3",
   "version": "3.10.4"
  }
 },
 "nbformat": 4,
 "nbformat_minor": 5
}
