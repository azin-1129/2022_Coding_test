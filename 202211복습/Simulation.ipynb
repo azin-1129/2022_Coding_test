{
  "nbformat": 4,
  "nbformat_minor": 0,
  "metadata": {
    "colab": {
      "provenance": []
    },
    "kernelspec": {
      "name": "python3",
      "display_name": "Python 3"
    },
    "language_info": {
      "name": "python"
    }
  },
  "cells": [
    {
      "cell_type": "code",
      "execution_count": 4,
      "metadata": {
        "colab": {
          "base_uri": "https://localhost:8080/"
        },
        "id": "fqwXVm7715cs",
        "outputId": "bd597852-f7cc-40af-d764-e713035e377f"
      },
      "outputs": [
        {
          "output_type": "stream",
          "name": "stdout",
          "text": [
            "5\n",
            "R R R U D D\n",
            "3 4\n"
          ]
        }
      ],
      "source": [
        "# 예제 4-1. 상하좌우\n",
        "# 7분 25초 소요\n",
        "\n",
        "N=int(input())\n",
        "route=list(input().split())\n",
        "dx=[0,0,-1,1]\n",
        "dy=[-1,1,0,0] # L R U D\n",
        "x,y=0,0\n",
        "\n",
        "for r in route:\n",
        "  if r=='L':\n",
        "    tx=x+dx[0]\n",
        "    ty=y+dy[0]\n",
        "  elif r=='R':\n",
        "    tx=x+dx[1]\n",
        "    ty=y+dy[1]\n",
        "  elif r=='U':\n",
        "    tx=x+dx[2]\n",
        "    ty=y+dy[2]\n",
        "  elif r=='D':\n",
        "    tx=x+dx[3]\n",
        "    ty=y+dy[3]\n",
        "  \n",
        "  if tx>=0 and tx<N and ty>=0 and ty<N:\n",
        "    x,y=tx,ty\n",
        "  \n",
        "print(x+1,y+1)  "
      ]
    },
    {
      "cell_type": "code",
      "source": [
        "# 예제 4-2. 시각\n",
        "# 3분 30초 소요\n",
        "\n",
        "N=int(input())\n",
        "cnt=0\n",
        "\n",
        "for h in range(0,N+1):\n",
        "  for m in range(60):\n",
        "    for s in range(60):\n",
        "      if '3' in str(h)+str(m)+str(s):\n",
        "        cnt+=1\n",
        "\n",
        "print(cnt)"
      ],
      "metadata": {
        "colab": {
          "base_uri": "https://localhost:8080/"
        },
        "id": "JTjiaufQI82S",
        "outputId": "0494cff9-45d5-48f0-8059-5697790a835d"
      },
      "execution_count": 6,
      "outputs": [
        {
          "output_type": "stream",
          "name": "stdout",
          "text": [
            "5\n",
            "11475\n"
          ]
        }
      ]
    },
    {
      "cell_type": "code",
      "source": [
        "# 2. 왕실의 나이트\n",
        "# 8분 35초 소요\n",
        "\n",
        "alpha=['a','b','c','d','e','f','g','h']\n",
        "loc=input()\n",
        "\n",
        "x=alpha.index(loc[0])\n",
        "y=int(loc[1])-1\n",
        "cnt=0\n",
        "\n",
        "if x-2>=0:\n",
        "  if y+1<8:\n",
        "    cnt+=1\n",
        "  if y-1>=0:\n",
        "    cnt+=1\n",
        "if x+2<8:\n",
        "  if y+1<8:\n",
        "    cnt+=1\n",
        "  if y-1>=0:\n",
        "    cnt+=1\n",
        "if y-2>=0:\n",
        "  if x+1<8:\n",
        "    cnt+=1\n",
        "  if x-1>=0:\n",
        "    cnt+=1\n",
        "if y+2<8:\n",
        "  if x+1<8:\n",
        "    cnt+=1\n",
        "  if x-1>=0:\n",
        "    cnt+=1\n",
        "\n",
        "print(cnt)"
      ],
      "metadata": {
        "colab": {
          "base_uri": "https://localhost:8080/"
        },
        "id": "ZnlHZf-xJIle",
        "outputId": "25916786-903d-4250-a0c6-5651847742eb"
      },
      "execution_count": 8,
      "outputs": [
        {
          "output_type": "stream",
          "name": "stdout",
          "text": [
            "a1\n",
            "2\n"
          ]
        }
      ]
    },
    {
      "cell_type": "code",
      "source": [
        "# 3. 게임 개발\n",
        "# 26분 30초 소요\n",
        "\n",
        "N,M=map(int,input().split())\n",
        "world=[]\n",
        "dx=[-1,0,1,0]\n",
        "dy=[0,1,0,-1]\n",
        "A,B,d=map(int,input().split()) # 시작 좌표 A,B 방향 d\n",
        "\n",
        "for N in range(M):\n",
        "  world.append(list(map(int,input().split())))\n",
        "\n",
        "visited=[[False]*M for _ in range(N)]\n",
        "\n",
        "dir_cnt=0\n",
        "x=A\n",
        "y=B\n",
        "visited[x][y]=True\n",
        "\n",
        "while True:\n",
        "  #print('현 좌표:',x,y)\n",
        "  if dir_cnt==4:\n",
        "    tx=x+dx[d]\n",
        "    ty=y+dy[d]\n",
        "\n",
        "    if world[tx][ty]==1: # 바다면\n",
        "      break\n",
        "  \n",
        "  if d==0:\n",
        "    d=3 # 회전\n",
        "    tx=x+dx[d]\n",
        "    ty=y+dy[d]\n",
        "    if tx>=0 and tx<N and ty>=0 and ty<M: # 범위 안\n",
        "      if visited[tx][ty]==False and world[tx][ty]==0: # 안 방문한 육지\n",
        "        #print('0의 좌측 3',tx,ty,'방문')\n",
        "        visited[tx][ty]=True\n",
        "        x=tx\n",
        "        y=ty # 이동\n",
        "        dir_cnt=0\n",
        "        continue\n",
        "    dir_cnt+=1 # 방문한 육지거나 바다, 범위 밖이면 회전만 함\n",
        "  elif d==1:\n",
        "    d=0 # 회전\n",
        "    tx=x+dx[d]\n",
        "    ty=y+dy[d]\n",
        "    if tx>=0 and tx<N and ty>=0 and ty<M: # 범위 안\n",
        "      if visited[tx][ty]==False and world[tx][ty]==0: # 안 방문한 육지\n",
        "        #print('1의 좌측 0',tx,ty,'방문')\n",
        "        visited[tx][ty]=True\n",
        "        x=tx\n",
        "        y=ty # 이동\n",
        "        dir_cnt=0\n",
        "        continue\n",
        "    dir_cnt+=1 # 방문한 육지거나 바다, 범위 밖이면 회전만 함\n",
        "  elif d==2:\n",
        "    d=1 # 회전\n",
        "    tx=x+dx[d]\n",
        "    ty=y+dy[d]\n",
        "    if tx>=0 and tx<N and ty>=0 and ty<M: # 범위 안\n",
        "      if visited[tx][ty]==False and world[tx][ty]==0: # 안 방문한 육지\n",
        "        #print('2의 좌측 1',tx,ty,'방문')\n",
        "        visited[tx][ty]=True\n",
        "        x=tx\n",
        "        y=ty # 이동\n",
        "        dir_cnt=0\n",
        "        continue\n",
        "    dir_cnt+=1 # 방문한 육지거나 바다, 범위 밖이면 회전만 함\n",
        "  elif d==3:\n",
        "    d=2 # 회전\n",
        "    tx=x+dx[d]\n",
        "    ty=y+dy[d]\n",
        "    if tx>=0 and tx<N and ty>=0 and ty<M: # 범위 안\n",
        "      if visited[tx][ty]==False and world[tx][ty]==0: # 안 방문한 육지\n",
        "        #print('3의 좌측 2',tx,ty,'방문')\n",
        "        visited[tx][ty]=True\n",
        "        x=tx\n",
        "        y=ty # 이동\n",
        "        dir_cnt=0\n",
        "        continue\n",
        "    dir_cnt+=1 # 방문한 육지거나 바다, 범위 밖이면 회전만 함\n",
        "\n",
        "print(sum(vi.count(True) for vi in visited if True in vi))"
      ],
      "metadata": {
        "colab": {
          "base_uri": "https://localhost:8080/"
        },
        "id": "lkAbHkeGNP-F",
        "outputId": "f5decf24-f9ce-4d79-8823-0d4f8bfea024"
      },
      "execution_count": 14,
      "outputs": [
        {
          "output_type": "stream",
          "name": "stdout",
          "text": [
            "4 4\n",
            "1 1 0\n",
            "1 1 1 1\n",
            "1 0 0 1\n",
            "1 1 0 1\n",
            "1 1 1 1\n",
            "현 좌표: 1 1\n",
            "현 좌표: 1 1\n",
            "현 좌표: 1 1\n",
            "2의 좌측 1 1 2 방문\n",
            "현 좌표: 1 2\n",
            "현 좌표: 1 2\n",
            "현 좌표: 1 2\n",
            "3의 좌측 2 2 2 방문\n",
            "현 좌표: 2 2\n",
            "현 좌표: 2 2\n",
            "현 좌표: 2 2\n",
            "현 좌표: 2 2\n",
            "현 좌표: 2 2\n",
            "3\n"
          ]
        }
      ]
    },
    {
      "cell_type": "code",
      "source": [
        "1"
      ],
      "metadata": {
        "id": "szFzdOi2RaLc"
      },
      "execution_count": null,
      "outputs": []
    }
  ]
}