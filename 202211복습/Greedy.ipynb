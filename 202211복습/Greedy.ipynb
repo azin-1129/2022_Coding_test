{
  "nbformat": 4,
  "nbformat_minor": 0,
  "metadata": {
    "colab": {
      "provenance": []
    },
    "kernelspec": {
      "name": "python3",
      "display_name": "Python 3"
    },
    "language_info": {
      "name": "python"
    }
  },
  "cells": [
    {
      "cell_type": "code",
      "execution_count": 8,
      "metadata": {
        "colab": {
          "base_uri": "https://localhost:8080/"
        },
        "id": "vrzUnfKIiYOa",
        "outputId": "e9c17ab9-1476-4f6d-b376-a8761a2ffaba"
      },
      "outputs": [
        {
          "output_type": "stream",
          "name": "stdout",
          "text": [
            "5 8 3\n",
            "2 4 5 4 6\n",
            "46\n"
          ]
        }
      ],
      "source": [
        "# 2. 큰 수의 법칙\n",
        "# 10분 걸린 거 같은데\n",
        "\n",
        "N,M,K=map(int,input().split())\n",
        "nums=list(map(int,input().split()))\n",
        "nums=sorted(nums,reverse=True)\n",
        "\n",
        "print((M//K)*(nums[0]*K)+(M%K)*nums[1])"
      ]
    },
    {
      "cell_type": "code",
      "source": [
        "# 3. 숫자 카드 게임\n",
        "# 9분 50초 소요\n",
        "N,M=map(int,input().split())\n",
        "\n",
        "cards=[]\n",
        "res=0\n",
        "\n",
        "for _ in range(N):\n",
        "  cards.append(list(map(int,input().split())))\n",
        "\n",
        "for card_row in cards:\n",
        "  res=max(res, min(card_row))\n",
        "\n",
        "print(res)"
      ],
      "metadata": {
        "colab": {
          "base_uri": "https://localhost:8080/"
        },
        "id": "0c8d_wuqk4ZX",
        "outputId": "3a96998e-b5b9-440e-cf1d-a866fc7f360a"
      },
      "execution_count": 10,
      "outputs": [
        {
          "output_type": "stream",
          "name": "stdout",
          "text": [
            "2 4\n",
            "7 3 1 8\n",
            "3 3 3 4\n",
            "3\n"
          ]
        }
      ]
    },
    {
      "cell_type": "code",
      "source": [
        "# 3 답안 예시\n",
        "\n",
        "n,m=map(int,input().split())\n",
        "\n",
        "result=0\n",
        "\n",
        "for i in range(n):\n",
        "  data=list(map(int,input().split()))\n",
        "  min_value=min(data)\n",
        "  result=max(result,min_value)\n",
        "\n",
        "print(result)"
      ],
      "metadata": {
        "id": "C1ltbNMRy86W"
      },
      "execution_count": null,
      "outputs": []
    },
    {
      "cell_type": "code",
      "source": [
        "# 4. 1이 될 때까지\n",
        "# 4분 소요\n",
        "\n",
        "N,K=map(int,input().split())\n",
        "cnt=0\n",
        "\n",
        "while N!=1:\n",
        "  if N%K!=0:\n",
        "    N-=1\n",
        "    cnt+=1\n",
        "  else:\n",
        "    N//=K\n",
        "  \n",
        "  cnt+=1\n",
        "\n",
        "print(cnt)"
      ],
      "metadata": {
        "colab": {
          "base_uri": "https://localhost:8080/"
        },
        "id": "UHkifgnozZO6",
        "outputId": "1e648004-76ef-49ee-b957-01169a629ae1"
      },
      "execution_count": 13,
      "outputs": [
        {
          "output_type": "stream",
          "name": "stdout",
          "text": [
            "25 5\n",
            "6\n"
          ]
        }
      ]
    },
    {
      "cell_type": "code",
      "source": [],
      "metadata": {
        "id": "Eg0GZhul0S6v"
      },
      "execution_count": null,
      "outputs": []
    }
  ]
}