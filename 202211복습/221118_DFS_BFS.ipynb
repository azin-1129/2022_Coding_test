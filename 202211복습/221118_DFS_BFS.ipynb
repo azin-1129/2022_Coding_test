{
  "nbformat": 4,
  "nbformat_minor": 0,
  "metadata": {
    "colab": {
      "provenance": []
    },
    "kernelspec": {
      "name": "python3",
      "display_name": "Python 3"
    },
    "language_info": {
      "name": "python"
    }
  },
  "cells": [
    {
      "cell_type": "code",
      "execution_count": 2,
      "metadata": {
        "colab": {
          "base_uri": "https://localhost:8080/"
        },
        "id": "Q9jB8sdI4dGs",
        "outputId": "58813871-aece-42e6-ccb2-88d4784b2040"
      },
      "outputs": [
        {
          "output_type": "stream",
          "name": "stdout",
          "text": [
            "[[0, 7, 5], [7, 0, 99999999999], [5, 99999999999, 0]]\n"
          ]
        }
      ],
      "source": [
        "# 5-6.py 인접 행렬 방식 예제\n",
        "\n",
        "INF=99999999999\n",
        "\n",
        "graph=[\n",
        "    [0,7,5],\n",
        "    [7,0,INF],\n",
        "    [5,INF,0]\n",
        "]\n",
        "\n",
        "print(graph)"
      ]
    },
    {
      "cell_type": "code",
      "source": [
        "# 5-7.py 인접 리스트 방식 예제\n",
        "\n",
        "graph=[ [] for _ in range(3) ]\n",
        "\n",
        "graph[0].append((1,7))\n",
        "graph[0].append((2,5))\n",
        "\n",
        "graph[1].append((0,7))\n",
        "\n",
        "graph[2].append((0,5))\n",
        "\n",
        "print(graph)"
      ],
      "metadata": {
        "colab": {
          "base_uri": "https://localhost:8080/"
        },
        "id": "V3xSErVi6jPV",
        "outputId": "1d6e2c29-f317-4482-81a7-75621c4fbb9f"
      },
      "execution_count": 3,
      "outputs": [
        {
          "output_type": "stream",
          "name": "stdout",
          "text": [
            "[[(1, 7), (2, 5)], [(0, 7)], [(0, 5)]]\n"
          ]
        }
      ]
    },
    {
      "cell_type": "code",
      "source": [
        "# 5-8.py DFS 예제\n",
        "\n",
        "def dfs(graph, v, visited):\n",
        "  visited[v]=True\n",
        "  print(v, end=' ')\n",
        "\n",
        "  for i in graph[v]:\n",
        "    if not visited[i]:\n",
        "      dfs(graph, i, visited)\n",
        "\n",
        "graph=[\n",
        "    [],\n",
        "    [2,3,8],\n",
        "    [1,7],\n",
        "    [1,4,5],\n",
        "    [3,5],\n",
        "    [3,4],\n",
        "    [7],\n",
        "    [2,6,8],\n",
        "    [1,7]\n",
        "]\n",
        "\n",
        "visited=[False]*9\n",
        "\n",
        "dfs(graph, 1, visited)"
      ],
      "metadata": {
        "colab": {
          "base_uri": "https://localhost:8080/"
        },
        "id": "aCxbbNue6yfW",
        "outputId": "58110905-c716-4884-83eb-90d7942f8cc4"
      },
      "execution_count": 4,
      "outputs": [
        {
          "output_type": "stream",
          "name": "stdout",
          "text": [
            "1 2 7 6 8 3 4 5 "
          ]
        }
      ]
    },
    {
      "cell_type": "code",
      "source": [
        "# 5-9.py BFS 예제\n",
        "\n",
        "from collections import deque\n",
        "\n",
        "def bfs(graph, start, visited):\n",
        "  queue=deque([start])\n",
        "\n",
        "  visited[start]=True\n",
        "  \n",
        "  while queue:\n",
        "    v=queue.popleft()\n",
        "    print(v, end=' ')\n",
        "\n",
        "    for i in graph[v]:\n",
        "      if not visited[i]:\n",
        "        queue.append(i)\n",
        "        visited[i]=True\n",
        "\n",
        "graph=[\n",
        "    [],\n",
        "    [2,3,8],\n",
        "    [1,7],\n",
        "    [1,4,5],\n",
        "    [3,5],\n",
        "    [3,4],\n",
        "    [7],\n",
        "    [2,6,8],\n",
        "    [1,7]\n",
        "]\n",
        "\n",
        "visited=[False]*9\n",
        "\n",
        "bfs(graph,1,visited)"
      ],
      "metadata": {
        "colab": {
          "base_uri": "https://localhost:8080/"
        },
        "id": "kvixBIEt85AD",
        "outputId": "99d47aae-529f-443e-b490-9e228717e19a"
      },
      "execution_count": 5,
      "outputs": [
        {
          "output_type": "stream",
          "name": "stdout",
          "text": [
            "1 2 3 8 7 4 5 6 "
          ]
        }
      ]
    },
    {
      "cell_type": "code",
      "source": [
        "# 3. 음료수 얼려 먹기\n",
        "# 19분 45초 소요\n",
        "\n",
        "from collections import deque\n",
        "\n",
        "def bfs(x,y,palette,visited):\n",
        "  queue=deque([(x,y)])\n",
        "  visited[x][y]=True\n",
        "  dx=[-1,1,0,0]\n",
        "  dy=[0,0,-1,1] # 상하좌우\n",
        "\n",
        "  while queue:\n",
        "    qx,qy=queue.popleft()\n",
        "    #print('현 좌표',qx,qy)\n",
        "    for i in range(4):\n",
        "      tx=qx+dx[i]\n",
        "      ty=qy+dy[i]\n",
        "      #print(tx,ty,'탐색중')\n",
        "      if tx<0 or tx>=len(visited) or ty<0 or ty>=len(visited[0]): # 범위 나감\n",
        "        #print('범위나감')\n",
        "        continue\n",
        "      \n",
        "      if palette[tx][ty]==0 and visited[tx][ty]==False: # 미방문 구멍\n",
        "        visited[tx][ty]=True\n",
        "        queue.append((tx,ty))\n",
        "\n",
        "  return 1\n",
        "\n",
        "\n",
        "N,M=map(int,input().split())\n",
        "palette=[]\n",
        "cnt=0 # 아이스크림 카운트\n",
        "\n",
        "for _ in range(N):\n",
        "  palette.append(list(map(int,input())))\n",
        "\n",
        "visited=[[False]*M for _ in range(N)]\n",
        "\n",
        "for x in range(N):\n",
        "  for y in range(M):\n",
        "    if palette[x][y]==0 and visited[x][y]==False: # 미방문 구멍\n",
        "      cnt+=bfs(x,y,palette,visited)\n",
        "\n",
        "print(cnt)"
      ],
      "metadata": {
        "colab": {
          "base_uri": "https://localhost:8080/"
        },
        "id": "xc1TGiNo-KgN",
        "outputId": "ed6e6a67-8269-4ee1-9eea-641cf6aa9fb3"
      },
      "execution_count": 12,
      "outputs": [
        {
          "output_type": "stream",
          "name": "stdout",
          "text": [
            "15 14\n",
            "00000111100000\n",
            "11111101111110\n",
            "11011101101110\n",
            "11011101100000\n",
            "11011111111111\n",
            "11011111111100\n",
            "11000000011111\n",
            "01111111111111\n",
            "00000000011111\n",
            "01111111111000\n",
            "00011111111000\n",
            "00000001111000\n",
            "11111111110011\n",
            "11100011111111\n",
            "11100011111111\n",
            "8\n"
          ]
        }
      ]
    },
    {
      "cell_type": "code",
      "source": [
        "# 4. 미로 탈출\n",
        "# 27분 15초 소요\n",
        "\n",
        "from collections import deque\n",
        "\n",
        "def bfs(x,y):\n",
        "  queue=deque([(x,y)])\n",
        "  visited[x][y]=1 # 시작\n",
        "  dx=[-1,1,0,0]\n",
        "  dy=[0,0,-1,1] # 상하좌우\n",
        "\n",
        "  while queue:\n",
        "    qx,qy=queue.popleft()\n",
        "\n",
        "    for i in range(4):\n",
        "      tx=qx+dx[i]\n",
        "      ty=qy+dy[i]\n",
        "\n",
        "      if tx<0 or ty<0 or tx>=N or ty>=M:\n",
        "        continue\n",
        "      \n",
        "      if game_map[tx][ty]==1 and visited[tx][ty]==False:\n",
        "        #print(tx,ty,'방문중')\n",
        "        visited[tx][ty]=visited[qx][qy]+1\n",
        "        #print('visited',tx,ty,visited[tx][ty],'+ visited[qx][qy]',qx,qy,visited[qx][qy])\n",
        "        queue.append((tx,ty))\n",
        "\n",
        "        if tx==(N-1) and ty==(M-1):\n",
        "          return visited[tx][ty]\n",
        "\n",
        "    \n",
        "\n",
        "N,M=map(int,input().split())\n",
        "\n",
        "visited=[ [0]*M for _ in range(N) ]\n",
        "game_map=[]\n",
        "\n",
        "for _ in range(N):\n",
        "  game_map.append(list(map(int,input())))\n",
        "\n",
        "print(bfs(0,0))\n",
        "\n",
        "for v in visited:\n",
        "  print(v)"
      ],
      "metadata": {
        "colab": {
          "base_uri": "https://localhost:8080/"
        },
        "id": "dVXXkxu_Afxl",
        "outputId": "06f72586-f6ea-4eba-c094-ec8d9737b0f5"
      },
      "execution_count": 28,
      "outputs": [
        {
          "output_type": "stream",
          "name": "stdout",
          "text": [
            "5 6\n",
            "101010\n",
            "111111\n",
            "000001\n",
            "111111\n",
            "111111\n",
            "10\n",
            "[1, 0, 5, 0, 7, 0]\n",
            "[2, 3, 4, 5, 6, 7]\n",
            "[0, 0, 0, 0, 0, 8]\n",
            "[0, 0, 0, 0, 0, 9]\n",
            "[0, 0, 0, 0, 0, 10]\n"
          ]
        }
      ]
    },
    {
      "cell_type": "code",
      "source": [
        "11"
      ],
      "metadata": {
        "id": "o1AvjGEpHNr7"
      },
      "execution_count": null,
      "outputs": []
    }
  ]
}