{
 "cells": [
  {
   "cell_type": "markdown",
   "id": "9ca0ce32",
   "metadata": {},
   "source": [
    "### 6. 정렬\n",
    "- 1. 기준에 따라 데이터 정렬"
   ]
  },
  {
   "cell_type": "markdown",
   "id": "35d26efe",
   "metadata": {},
   "source": [
    "- - 선택 정렬"
   ]
  },
  {
   "cell_type": "code",
   "execution_count": 1,
   "id": "70e69330",
   "metadata": {},
   "outputs": [],
   "source": [
    "array=[7,5,9,0,3,1,6,2,4,8]\n",
    "\n",
    "for i in range(len(array)):\n",
    "    min_index=i\n",
    "    \n",
    "    for j in range(i+1, len(array)): # 일일이 순회해서 귀찮을듯\n",
    "        if array[min_index]>array[j]:\n",
    "            min_index=j\n",
    "            \n",
    "    array[i],array[min_index]=array[min_index],array[i]"
   ]
  },
  {
   "cell_type": "markdown",
   "id": "3e0455a9",
   "metadata": {},
   "source": [
    "- - 삽입 정렬"
   ]
  },
  {
   "cell_type": "code",
   "execution_count": null,
   "id": "4afc62ee",
   "metadata": {},
   "outputs": [],
   "source": [
    "array=[7,5,9,0,3,1,6,2,4,8]\n",
    "\n",
    "for i in range(1, len(array)):\n",
    "    for j in range(i,0,-1):\n",
    "        if array[j]<array[j-1]:\n",
    "            array[j],array[j-1]=array[j-1],array[j]"
   ]
  },
  {
   "cell_type": "markdown",
   "id": "a87ced46",
   "metadata": {},
   "source": [
    "- - 퀵 정렬"
   ]
  },
  {
   "cell_type": "code",
   "execution_count": 4,
   "id": "c468d9cf",
   "metadata": {},
   "outputs": [
    {
     "name": "stdout",
     "output_type": "stream",
     "text": [
      "[0, 1, 2, 3, 4, 5, 6, 7, 8, 9]\n"
     ]
    }
   ],
   "source": [
    "array=[5,7,9,0,3,1,6,2,4,8]\n",
    "\n",
    "def quick_sort(array, start, end):\n",
    "    if start>=end: # 원소가 1개면 종료\n",
    "        return\n",
    "    \n",
    "    pivot=start\n",
    "    left=start+1\n",
    "    right=end\n",
    "    \n",
    "    while left<=right:\n",
    "        while left<=end and array[left]<=array[pivot]:\n",
    "            left+=1\n",
    "        while right>start and array[right]>=array[pivot]: # 끝까지 갈 수 있되 값 위주로 이동\n",
    "            right-=1\n",
    "            \n",
    "        if left>right:\n",
    "            array[right], array[pivot]=array[pivot], array[right]\n",
    "        else:\n",
    "            array[left], array[right]=array[right], array[left]\n",
    "            \n",
    "    quick_sort(array, start, right-1)\n",
    "    quick_sort(array, right+1, end)\n",
    "        \n",
    "quick_sort(array, 0, len(array)-1)\n",
    "print(array)"
   ]
  },
  {
   "cell_type": "code",
   "execution_count": 9,
   "id": "8c38bccd",
   "metadata": {},
   "outputs": [
    {
     "name": "stdout",
     "output_type": "stream",
     "text": [
      "array [5, 7, 9, 0, 3, 1, 6, 2, 4, 8] pivot 5 left [0, 3, 1, 2, 4] right [7, 9, 6, 8]\n",
      "array [0, 3, 1, 2, 4] pivot 0 left [] right [3, 1, 2, 4]\n",
      "array [3, 1, 2, 4] pivot 3 left [1, 2] right [4]\n",
      "array [1, 2] pivot 1 left [] right [2]\n",
      "array [7, 9, 6, 8] pivot 7 left [6] right [9, 8]\n",
      "array [9, 8] pivot 9 left [8] right []\n",
      "[0, 1, 2, 3, 4, 5, 6, 7, 8, 9]\n"
     ]
    }
   ],
   "source": [
    "array=[5,7,9,0,3,1,6,2,4,8]\n",
    "\n",
    "def quick_sort_py(array):\n",
    "    if len(array)<=1:\n",
    "        return array\n",
    "    \n",
    "    pivot=array[0]\n",
    "    tail=array[1:]\n",
    "    \n",
    "    left_side=[x for x in tail if x<=pivot]\n",
    "    right_side=[x for x in tail if x>pivot]\n",
    "    \n",
    "    print('array',array,'pivot',pivot,'left',left_side,'right',right_side)\n",
    "    \n",
    "    return quick_sort_py(left_side)+[pivot]+quick_sort_py(right_side)\n",
    "\n",
    "print(quick_sort_py(array))"
   ]
  },
  {
   "cell_type": "markdown",
   "id": "957705b8",
   "metadata": {},
   "source": [
    "- - 계수 정렬"
   ]
  },
  {
   "cell_type": "code",
   "execution_count": 13,
   "id": "c84f8458",
   "metadata": {},
   "outputs": [
    {
     "name": "stdout",
     "output_type": "stream",
     "text": [
      "0 0 1 1 2 2 3 4 5 5 6 7 8 9 9 "
     ]
    }
   ],
   "source": [
    "array=[7,5,9,0,3,1,6,2,9,1,4,8,0,5,2]\n",
    "count=[0]*(max(array)+1)\n",
    "\n",
    "for i in range(len(array)):\n",
    "    count[array[i]]+=1\n",
    "    \n",
    "for i in range(len(count)):\n",
    "    for j in range(count[i]):\n",
    "        print(i, end=' ')"
   ]
  },
  {
   "cell_type": "code",
   "execution_count": 25,
   "id": "b73b25d2",
   "metadata": {},
   "outputs": [
    {
     "name": "stdout",
     "output_type": "stream",
     "text": [
      "[2, 2, 2, 1, 1, 2, 1, 1, 1, 2]\n",
      "0 0 1 1 2 2 3 4 5 5 6 7 8 9 9 "
     ]
    }
   ],
   "source": [
    "array=[7,5,9,0,3,1,6,2,9,1,4,8,0,5,2]\n",
    "count=[0]*(max(array)+1)\n",
    "\n",
    "for i in array:\n",
    "    count[i]+=1\n",
    "    \n",
    "print(count)\n",
    "\n",
    "for i in range(len(count)):\n",
    "    for j in range(count[i]):\n",
    "        print(i, end=' ')"
   ]
  },
  {
   "cell_type": "code",
   "execution_count": 21,
   "id": "4c1b1762",
   "metadata": {},
   "outputs": [
    {
     "data": {
      "text/plain": [
       "<function list.count(value, /)>"
      ]
     },
     "execution_count": 21,
     "metadata": {},
     "output_type": "execute_result"
    }
   ],
   "source": []
  },
  {
   "cell_type": "code",
   "execution_count": null,
   "id": "8529b92e",
   "metadata": {},
   "outputs": [],
   "source": []
  }
 ],
 "metadata": {
  "kernelspec": {
   "display_name": "Python 3 (ipykernel)",
   "language": "python",
   "name": "python3"
  },
  "language_info": {
   "codemirror_mode": {
    "name": "ipython",
    "version": 3
   },
   "file_extension": ".py",
   "mimetype": "text/x-python",
   "name": "python",
   "nbconvert_exporter": "python",
   "pygments_lexer": "ipython3",
   "version": "3.10.4"
  }
 },
 "nbformat": 4,
 "nbformat_minor": 5
}
