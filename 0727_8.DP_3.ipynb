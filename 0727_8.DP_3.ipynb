{
 "cells": [
  {
   "cell_type": "markdown",
   "id": "532e6cd3",
   "metadata": {},
   "source": [
    "# 5. 효율적인 화폐 구성"
   ]
  },
  {
   "cell_type": "code",
   "execution_count": 59,
   "id": "14bc9fff",
   "metadata": {
    "scrolled": true
   },
   "outputs": [
    {
     "name": "stdout",
     "output_type": "stream",
     "text": [
      "2 15\n",
      "2\n",
      "3\n",
      "5\n"
     ]
    }
   ],
   "source": [
    "# 1시간 반 했는데 잘 모르겠다\n",
    "\n",
    "coins=[]\n",
    "count=0\n",
    "\n",
    "N, M=map(int,input().split())\n",
    "for _ in range(N):\n",
    "    coins.append(int(input()))\n",
    "    \n",
    "DP=[M] *(M+1)\n",
    "\n",
    "#print('DP:',DP)\n",
    "\n",
    "for dp_idx in range(1,M):\n",
    "    if DP[dp_idx-1]==0: # 끝나면\n",
    "        break\n",
    "    for c_idx in range(N):\n",
    "        if DP[dp_idx-1]%coins[c_idx]==0: # 나눠질 때 비교\n",
    "            #print('지금',DP[dp_idx],',',coins[c_idx],'로 나눈 값',DP[dp_idx-1]//coins[c_idx],'비교')\n",
    "            DP[dp_idx]=min(DP[dp_idx], DP[dp_idx-1]%coins[c_idx])\n",
    "            #print(count,'카운트에',DP[dp_idx-1]//coins[c_idx],'를 더함')\n",
    "            count+=(DP[dp_idx-1]//coins[c_idx])\n",
    "            break # 큰걸로 나누긴 함\n",
    "    \n",
    "    #print(DP)\n",
    "    #print()\n",
    "    \n",
    "if 0 in DP:\n",
    "    print(count)\n",
    "else: # 안 나눠질 때\n",
    "    print(-1)"
   ]
  },
  {
   "cell_type": "markdown",
   "id": "d38ba5c9",
   "metadata": {},
   "source": [
    "- 답안 예시"
   ]
  },
  {
   "cell_type": "code",
   "execution_count": 62,
   "id": "1fb0667f",
   "metadata": {},
   "outputs": [
    {
     "name": "stdout",
     "output_type": "stream",
     "text": [
      "2 15\n",
      "2\n",
      "3\n",
      "i: 0 j: 2\n",
      "i: 0 j: 3\n",
      "i: 0 j: 4\n",
      "i: 0 j: 5\n",
      "i: 0 j: 6\n",
      "i: 0 j: 7\n",
      "i: 0 j: 8\n",
      "i: 0 j: 9\n",
      "i: 0 j: 10\n",
      "i: 0 j: 11\n",
      "i: 0 j: 12\n",
      "i: 0 j: 13\n",
      "i: 0 j: 14\n",
      "i: 0 j: 15\n",
      "i: 1 j: 3\n",
      "i: 1 j: 4\n",
      "i: 1 j: 5\n",
      "i: 1 j: 6\n",
      "i: 1 j: 7\n",
      "i: 1 j: 8\n",
      "i: 1 j: 9\n",
      "i: 1 j: 10\n",
      "i: 1 j: 11\n",
      "i: 1 j: 12\n",
      "i: 1 j: 13\n",
      "i: 1 j: 14\n",
      "i: 1 j: 15\n",
      "5\n"
     ]
    }
   ],
   "source": [
    "n,m=map(int,input().split())\n",
    "\n",
    "array=[]\n",
    "for i in range(n):\n",
    "    array.append(int(input()))\n",
    "    \n",
    "d=[10001]*(m+1) # dp table\n",
    "\n",
    "d[0]=0\n",
    "\n",
    "for i in range(n): # 화폐수\n",
    "    for j in range(array[i], m+1): # 인덱스 화폐~금액. dp 인덱스\n",
    "        print('i:',i,'j:',j)\n",
    "        if d[j-array[i]]!=10001: # j-코인번째 dp 갱신되면\n",
    "            d[j]=min(d[j], d[j-array[i]]+1) # 현재값과 j-코인번째+1 값 비교해 현재 갱신\n",
    "            \n",
    "if d[m]==10001:\n",
    "    print(-1)\n",
    "else:\n",
    "    print(d[m])"
   ]
  },
  {
   "cell_type": "code",
   "execution_count": null,
   "id": "17379f36",
   "metadata": {},
   "outputs": [],
   "source": []
  }
 ],
 "metadata": {
  "kernelspec": {
   "display_name": "Python 3 (ipykernel)",
   "language": "python",
   "name": "python3"
  },
  "language_info": {
   "codemirror_mode": {
    "name": "ipython",
    "version": 3
   },
   "file_extension": ".py",
   "mimetype": "text/x-python",
   "name": "python",
   "nbconvert_exporter": "python",
   "pygments_lexer": "ipython3",
   "version": "3.10.4"
  }
 },
 "nbformat": 4,
 "nbformat_minor": 5
}
