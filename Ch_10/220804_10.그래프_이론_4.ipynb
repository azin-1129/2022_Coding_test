{
 "cells": [
  {
   "cell_type": "markdown",
   "id": "3d30766a",
   "metadata": {},
   "source": [
    "- 10-9.py 답안 예시"
   ]
  },
  {
   "cell_type": "code",
   "execution_count": null,
   "id": "58ad2105",
   "metadata": {},
   "outputs": [],
   "source": [
    "from collections import deque\n",
    "import copy\n",
    "\n",
    "v=int(input())\n",
    "indegree=[0]*(v+1)\n",
    "graph=[ [] for i in range(v+1)]\n",
    "\n",
    "time=[0]*(v+1)\n",
    "\n",
    "for i in range(1, v+1):\n",
    "    data=list(map(int,input().split()))\n",
    "    time[i]=data[0]\n",
    "    \n",
    "    for x in data[1:-1]:\n",
    "        indegree[i]+=1\n",
    "        graph[x].append(i)\n",
    "        \n",
    "def topology_sort():\n",
    "    result=copy.deepcopy(time)\n",
    "    q=deque()\n",
    "    \n",
    "    for i in range(1, v+1):\n",
    "        if indegree[i]==0:\n",
    "            q.append(i)\n",
    "            \n",
    "    while q:\n",
    "        now=q.popleft()\n",
    "        \n",
    "        for i in graph[now]:\n",
    "            result[i]=max(result[i], result[now]+time[i])\n",
    "            indegree[i]-=1\n",
    "            \n",
    "            if indegree[i]==0:\n",
    "                q.append(i)\n",
    "                \n",
    "    for i in range(1, v+1):\n",
    "        print(result[i])\n",
    "    \n",
    "topology_sort()"
   ]
  }
 ],
 "metadata": {
  "kernelspec": {
   "display_name": "Python 3 (ipykernel)",
   "language": "python",
   "name": "python3"
  },
  "language_info": {
   "codemirror_mode": {
    "name": "ipython",
    "version": 3
   },
   "file_extension": ".py",
   "mimetype": "text/x-python",
   "name": "python",
   "nbconvert_exporter": "python",
   "pygments_lexer": "ipython3",
   "version": "3.10.5"
  }
 },
 "nbformat": 4,
 "nbformat_minor": 5
}
