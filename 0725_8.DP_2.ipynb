{
 "cells": [
  {
   "cell_type": "markdown",
   "id": "74752375",
   "metadata": {},
   "source": [
    "# 3. 개미전사"
   ]
  },
  {
   "cell_type": "code",
   "execution_count": 10,
   "id": "8c70298e",
   "metadata": {},
   "outputs": [
    {
     "name": "stdout",
     "output_type": "stream",
     "text": [
      "4\n",
      "1 3 1 5\n",
      "WH: [1, 3, 1, 5] idx: 0\n",
      "8\n"
     ]
    }
   ],
   "source": [
    "N=int(input())\n",
    "WH=list(map(int,input().split()))\n",
    "res=0\n",
    "idx=0\n",
    "\n",
    "while idx+3<N:\n",
    "    print('WH:',WH,'idx:',idx)\n",
    "    WH[idx+3]=max( (WH[idx]+WH[idx+2]), (WH[idx+1]+WH[idx+3]))\n",
    "    res+=WH[idx+3]\n",
    "    \n",
    "    idx+=3\n",
    "\n",
    "print(res)"
   ]
  },
  {
   "cell_type": "markdown",
   "id": "2b63d17e",
   "metadata": {},
   "source": [
    "- 답안 예시"
   ]
  },
  {
   "cell_type": "code",
   "execution_count": 12,
   "id": "f3e35811",
   "metadata": {},
   "outputs": [
    {
     "name": "stdout",
     "output_type": "stream",
     "text": [
      "4\n",
      "1 3 1 5\n",
      "8\n"
     ]
    }
   ],
   "source": [
    "n=int(input())\n",
    "array=list(map(int,input().split()))\n",
    "\n",
    "d=[0]*100\n",
    "d[0]=array[0]\n",
    "d[1]=max(array[0],array[1])\n",
    "for i in range(2,n):\n",
    "    d[i]=max(d[i-1],d[i-2]+array[i])\n",
    "    \n",
    "print(d[n-1])"
   ]
  },
  {
   "cell_type": "markdown",
   "id": "8de7265a",
   "metadata": {},
   "source": [
    "# 4. 바닥 공사"
   ]
  },
  {
   "cell_type": "code",
   "execution_count": 18,
   "id": "9a8dc640",
   "metadata": {},
   "outputs": [
    {
     "name": "stdout",
     "output_type": "stream",
     "text": [
      "3\n",
      "1 번째 결과: 4\n",
      "2 번째 결과: 5\n",
      "5\n"
     ]
    }
   ],
   "source": [
    "N=int(input())\n",
    "\n",
    "res=1 # 0번째.\n",
    "i=1\n",
    "\n",
    "while i<N:\n",
    "    res+=1\n",
    "    \n",
    "    if (i+1)%2==0:\n",
    "        res+=2\n",
    "        \n",
    "    print(i,'번째 결과:',res)\n",
    "    \n",
    "    i+=1\n",
    "    \n",
    "    \n",
    "        \n",
    "print(res)"
   ]
  },
  {
   "cell_type": "markdown",
   "id": "41d4b0dd",
   "metadata": {},
   "source": [
    "- 답안 예시"
   ]
  },
  {
   "cell_type": "code",
   "execution_count": 22,
   "id": "2eb95542",
   "metadata": {
    "scrolled": true
   },
   "outputs": [
    {
     "name": "stdout",
     "output_type": "stream",
     "text": [
      "3\n",
      "[0, 1, 3, 5, 0]\n",
      "\n",
      "5\n"
     ]
    }
   ],
   "source": [
    "n=int(input())\n",
    "d=[0]*5\n",
    "\n",
    "d[1]=1\n",
    "d[2]=3\n",
    "\n",
    "for i in range(3,n+1):\n",
    "    d[i]=(d[i-1]+2*d[i-2])\n",
    "    print(d)\n",
    "    print()\n",
    "    \n",
    "print(d[n])"
   ]
  },
  {
   "cell_type": "markdown",
   "id": "7224a2a5",
   "metadata": {},
   "source": [
    "# 5. 효율적인 화폐 구성"
   ]
  },
  {
   "cell_type": "code",
   "execution_count": 27,
   "id": "1ad7f25d",
   "metadata": {},
   "outputs": [
    {
     "name": "stdout",
     "output_type": "stream",
     "text": [
      "3 4\n",
      "3\n",
      "5\n",
      "7\n",
      "-1\n"
     ]
    }
   ],
   "source": [
    "N, M= map(int,input().split()) # 뭔가 잘못됨\n",
    "coins=[]\n",
    "count=0\n",
    "\n",
    "for _ in range(N):\n",
    "    coins.append(int(input()))\n",
    "    \n",
    "coins.sort(reverse=True)\n",
    "\n",
    "for coin in coins:\n",
    "    if M%coin==0:\n",
    "        count+=(M//coin)\n",
    "        M%=coin\n",
    "        \n",
    "if M!=0:\n",
    "    print(-1)\n",
    "else:\n",
    "    print(count)\n",
    "    "
   ]
  },
  {
   "cell_type": "code",
   "execution_count": null,
   "id": "80e4c326",
   "metadata": {},
   "outputs": [],
   "source": []
  }
 ],
 "metadata": {
  "kernelspec": {
   "display_name": "Python 3 (ipykernel)",
   "language": "python",
   "name": "python3"
  },
  "language_info": {
   "codemirror_mode": {
    "name": "ipython",
    "version": 3
   },
   "file_extension": ".py",
   "mimetype": "text/x-python",
   "name": "python",
   "nbconvert_exporter": "python",
   "pygments_lexer": "ipython3",
   "version": "3.10.4"
  }
 },
 "nbformat": 4,
 "nbformat_minor": 5
}
