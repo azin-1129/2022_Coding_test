{
 "cells": [
  {
   "cell_type": "markdown",
   "id": "287d6f34",
   "metadata": {},
   "source": [
    "# 1. 다양한 그래프 알고리즘\n",
    "- 10-1.py 서로소 집합 알고리즘 소스"
   ]
  },
  {
   "cell_type": "code",
   "execution_count": 1,
   "id": "08574aef",
   "metadata": {},
   "outputs": [
    {
     "name": "stdout",
     "output_type": "stream",
     "text": [
      "6 4\n",
      "1 4\n",
      "2 3\n",
      "2 4\n",
      "5 6\n",
      "각 원소의 소속: 1 1 1 1 5 5 \n",
      "parent: 1 1 2 1 5 5 "
     ]
    }
   ],
   "source": [
    "def find_parent(parent,x): # 이게 비효율적. 최악일 때 O(V)\n",
    "    if parent[x]!=x: # 직속이 아니라면\n",
    "        return find_parent(parent,parent[x])\n",
    "    \n",
    "    return x\n",
    "\n",
    "def union_parent(parent, a,b):\n",
    "    a=find_parent(parent, a)\n",
    "    b=find_parent(parent, b)\n",
    "    \n",
    "    if a<b:\n",
    "        parent[b]=a\n",
    "    else:\n",
    "        parent[a]=b\n",
    "        \n",
    "        \n",
    "v,e=map(int,input().split())\n",
    "parent=[0]*(v+1)\n",
    "\n",
    "for i in range(1, v+1):\n",
    "    parent[i]=i\n",
    "    \n",
    "for i in range(e):\n",
    "    a,b=map(int,input().split())\n",
    "    union_parent(parent,a,b)\n",
    "    \n",
    "print('각 원소의 소속:',end=' ')\n",
    "for i in range(1, v+1):\n",
    "    print(find_parent(parent,i), end=' ')\n",
    "    \n",
    "print()\n",
    "\n",
    "print('parent:', end=' ')\n",
    "for i in range(1, v+1):\n",
    "    print(parent[i], end=' ')"
   ]
  },
  {
   "cell_type": "markdown",
   "id": "42a675d8",
   "metadata": {},
   "source": [
    "- 10-3.py 개선된 서로소 집합 알고리즘 소스(경로 압축)"
   ]
  },
  {
   "cell_type": "code",
   "execution_count": 5,
   "id": "7ee7d027",
   "metadata": {},
   "outputs": [
    {
     "name": "stdout",
     "output_type": "stream",
     "text": [
      "6 4\n",
      "1 4\n",
      "2 3\n",
      "2 4\n",
      "5 6\n",
      "각 원소 소속: 1 1 1 1 5 5 부모 테이블: 1 1 1 1 5 5 "
     ]
    }
   ],
   "source": [
    "def find_parent(parent, x):\n",
    "    if parent[x]!=x:\n",
    "        parent[x]=find_parent(parent, parent[x])\n",
    "        \n",
    "    return parent[x]\n",
    "\n",
    "def union_parent(parent, a, b):\n",
    "    a=find_parent(parent,a)\n",
    "    b=find_parent(parent,b)\n",
    "    \n",
    "    if a<b:\n",
    "        parent[b]=a\n",
    "    else:\n",
    "        parent[a]=b\n",
    "        \n",
    "v,e=map(int, input().split())\n",
    "parent=[0]*(v+1)\n",
    "\n",
    "for i in range(1, v+1):\n",
    "    parent[i]=i # 초기화\n",
    "    \n",
    "for i in range(e):\n",
    "    a,b=map(int,input().split())\n",
    "    union_parent(parent, a,b)\n",
    "    \n",
    "print('각 원소 소속:', end=' ')\n",
    "for i in range(1, v+1):\n",
    "    print(find_parent(parent,i), end=' ')\n",
    "    \n",
    "print()\n",
    "\n",
    "print('부모 테이블:', end=' ')\n",
    "for i in range(1, v+1):\n",
    "    print(parent[i], end=' ')"
   ]
  },
  {
   "cell_type": "markdown",
   "id": "e6666105",
   "metadata": {},
   "source": [
    "- 10.4 서로소 집합 활용 사이클 판별 소스"
   ]
  },
  {
   "cell_type": "code",
   "execution_count": 7,
   "id": "f27916d7",
   "metadata": {},
   "outputs": [
    {
     "name": "stdout",
     "output_type": "stream",
     "text": [
      "3 3\n",
      "1 2\n",
      "1 3\n",
      "2 3\n",
      "O\n"
     ]
    }
   ],
   "source": [
    "def find_parent(parent, x):\n",
    "    if parent[x]!=x:\n",
    "        parent[x]=find_parent(parent, parent[x])\n",
    "        \n",
    "    return parent[x]\n",
    "\n",
    "def union_parent(parent, a,b):\n",
    "    a=find_parent(parent,a)\n",
    "    b=find_parent(parent,b)\n",
    "    \n",
    "    if a<b:\n",
    "        parent[b]=a\n",
    "    else:\n",
    "        parent[a]=b\n",
    "        \n",
    "v,e=map(int,input().split())\n",
    "parent=[0]*(v+1)\n",
    "\n",
    "for i in range(1, v+1):\n",
    "    parent[i]=i\n",
    "    \n",
    "cycle=False # 플래그\n",
    "\n",
    "for i in range(e):\n",
    "    a,b=map(int, input().split())\n",
    "    \n",
    "    if find_parent(parent,a)==find_parent(parent,b):\n",
    "        cycle=True\n",
    "        break\n",
    "    else:\n",
    "        union_parent(parent, a,b)\n",
    "        \n",
    "if cycle:\n",
    "    print('O')\n",
    "else:\n",
    "    print('X')"
   ]
  },
  {
   "cell_type": "markdown",
   "id": "21139ae1",
   "metadata": {},
   "source": [
    "- 10-5.py 크루스칼 알고리즘 소스코드"
   ]
  },
  {
   "cell_type": "code",
   "execution_count": 9,
   "id": "c0cca223",
   "metadata": {},
   "outputs": [
    {
     "name": "stdout",
     "output_type": "stream",
     "text": [
      "7 9\n",
      "1 2 29\n",
      "1 5 75\n",
      "2 3 35\n",
      "2 6 34\n",
      "3 4 7\n",
      "4 6 23\n",
      "4 7 13\n",
      "5 6 53\n",
      "6 7 25\n",
      "159\n"
     ]
    }
   ],
   "source": [
    "def find_parent(parent, x):\n",
    "    if parent[x]!=x:\n",
    "        parent[x]=find_parent(parent, parent[x])\n",
    "        \n",
    "    return parent[x]\n",
    "\n",
    "def union_parent(parent, a,b):\n",
    "    a=find_parent(parent,a)\n",
    "    b=find_parent(parent,b)\n",
    "    \n",
    "    if a<b:\n",
    "        parent[b]=a\n",
    "    else:\n",
    "        parent[a]=b\n",
    "        \n",
    "v,e=map(int,input().split())\n",
    "parent=[0]*(v+1)\n",
    "\n",
    "edges=[]\n",
    "result=0\n",
    "\n",
    "for i in range(1,v+1):\n",
    "        parent[i]=i\n",
    "        \n",
    "for _ in range(e):\n",
    "    a,b,cost=map(int, input().split())\n",
    "    edges.append( (cost,a,b) )\n",
    "    \n",
    "edges.sort()\n",
    "\n",
    "for edge in edges:\n",
    "    cost, a, b=edge\n",
    "    \n",
    "    if find_parent(parent,a) != find_parent(parent,b):\n",
    "        union_parent(parent, a, b)\n",
    "        result+=cost\n",
    "        \n",
    "print(result)"
   ]
  },
  {
   "cell_type": "markdown",
   "id": "c56fd533",
   "metadata": {},
   "source": [
    "- 10-6.py 위상 정렬 소스"
   ]
  },
  {
   "cell_type": "code",
   "execution_count": 16,
   "id": "baf1d2d3",
   "metadata": {
    "scrolled": true
   },
   "outputs": [
    {
     "name": "stdout",
     "output_type": "stream",
     "text": [
      "7 8\n",
      "1 2\n",
      "1 5\n",
      "2 3\n",
      "2 6\n",
      "3 4\n",
      "4 7\n",
      "5 6\n",
      "6 4\n",
      "1 2 5 3 6 4 7 "
     ]
    }
   ],
   "source": [
    "from collections import deque\n",
    "\n",
    "v,e=map(int,input().split())\n",
    "\n",
    "indegree=[0]*(v+1) # 진입차수 테이블\n",
    "\n",
    "graph=[ [] for i in range(v+1) ]\n",
    "\n",
    "for _ in range(e):\n",
    "    a,b=map(int, input().split())\n",
    "    graph[a].append(b)\n",
    "    indegree[b]+=1\n",
    "    \n",
    "def topology_sort():\n",
    "    result=[]\n",
    "    q=deque()\n",
    "    \n",
    "    for i in range(1, v+1):\n",
    "        if indegree[i]==0:\n",
    "            q.append(i) # 진입차수 0인 노드 삽입\n",
    "            \n",
    "    while q:\n",
    "        now=q.popleft()\n",
    "        result.append(now)\n",
    "        \n",
    "        for i in graph[now]: \n",
    "            indegree[i]-=1 # 연결된 간선 제거\n",
    "            \n",
    "            if indegree[i]==0:\n",
    "                q.append(i)\n",
    "                \n",
    "    for i in result:\n",
    "        print(i, end=' ')\n",
    "        \n",
    "topology_sort()"
   ]
  },
  {
   "cell_type": "markdown",
   "id": "609f6ce9",
   "metadata": {},
   "source": [
    "---"
   ]
  },
  {
   "cell_type": "markdown",
   "id": "014bea35",
   "metadata": {},
   "source": [
    "# 실전 문제\n",
    "- 2. 팀 결성"
   ]
  },
  {
   "cell_type": "code",
   "execution_count": 17,
   "id": "1436f3d1",
   "metadata": {},
   "outputs": [
    {
     "name": "stdout",
     "output_type": "stream",
     "text": [
      "7 8\n",
      "0 1 3\n",
      "1 1 7\n",
      "NO\n",
      "0 7 6\n",
      "1 7 1\n",
      "NO\n",
      "0 3 7\n",
      "0 4 2\n",
      "0 1 1\n",
      "1 1 1\n",
      "YES\n"
     ]
    }
   ],
   "source": [
    "# 15분 소요\n",
    "def find_mom(parent, x):\n",
    "    if parent[x]!=x:\n",
    "        parent[x]=find_mom(parent, parent[x])\n",
    "        \n",
    "    return parent[x]\n",
    "\n",
    "def union(parent, a, b):\n",
    "    a_p=find_mom(parent, a)\n",
    "    b_p=find_mom(parent, b)\n",
    "    \n",
    "    if a_p<b_p:\n",
    "        parent[b]=a_p\n",
    "    else:\n",
    "        parent[a]=b_p\n",
    "        \n",
    "N,M=map(int, input().split())\n",
    "parent=[i for i in range(N+1)]\n",
    "\n",
    "for _ in range(M):\n",
    "    calc, a, b=map(int,input().split())\n",
    "    \n",
    "    if calc==0:\n",
    "        union(parent,a,b)\n",
    "    else:\n",
    "        if find_mom(parent,a)==find_mom(parent,b):\n",
    "            print('YES')\n",
    "        else:\n",
    "            print('NO')"
   ]
  },
  {
   "cell_type": "markdown",
   "id": "00ec7c54",
   "metadata": {},
   "source": [
    "- 10-7.py 답안 예시"
   ]
  },
  {
   "cell_type": "code",
   "execution_count": null,
   "id": "48d42f76",
   "metadata": {},
   "outputs": [],
   "source": [
    "def find_parent(parent, x):\n",
    "    if parent[x]!=x:\n",
    "        parent[x]=find_parent(parent, parent[x])\n",
    "    return parent[x]\n",
    "\n",
    "def union_parent(parent, a, b):\n",
    "    a=find_parent(parent, a)\n",
    "    b=find_parent(parent, b)\n",
    "    \n",
    "    if a<b:\n",
    "        parent[b]=a\n",
    "    else:\n",
    "        parent[a]=b\n",
    "        \n",
    "n,m=map(int,input().split())\n",
    "parent=[0]*(n+1)\n",
    "\n",
    "for i in range(0, n+1):\n",
    "    parent[i]=i\n",
    "    \n",
    "for i in range(m):\n",
    "    oper, a, b=map(int, input().split())\n",
    "    \n",
    "    if oper==0:\n",
    "        union_parent(parent, a,b)\n",
    "    elif oper==1:\n",
    "        if find_parent(parent,a)==find_parent(parent,b):\n",
    "            print('YES')\n",
    "        else:\n",
    "            print('NO')"
   ]
  }
 ],
 "metadata": {
  "kernelspec": {
   "display_name": "Python 3 (ipykernel)",
   "language": "python",
   "name": "python3"
  },
  "language_info": {
   "codemirror_mode": {
    "name": "ipython",
    "version": 3
   },
   "file_extension": ".py",
   "mimetype": "text/x-python",
   "name": "python",
   "nbconvert_exporter": "python",
   "pygments_lexer": "ipython3",
   "version": "3.10.4"
  }
 },
 "nbformat": 4,
 "nbformat_minor": 5
}
