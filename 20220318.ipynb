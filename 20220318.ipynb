{
 "cells": [
  {
   "cell_type": "code",
   "execution_count": 16,
   "metadata": {},
   "outputs": [
    {
     "name": "stdout",
     "output_type": "stream",
     "text": [
      "2 15\n",
      "2\n",
      "3\n",
      "5\n"
     ]
    }
   ],
   "source": [
    "#226p\n",
    "\n",
    "Money=[]\n",
    "N,M=map(int,input().split()) # 화폐 종류수 N, 목표치 M\n",
    "for _ in range(N):\n",
    "    Money.append(int(input()))\n",
    "    \n",
    "Money.sort(reverse=True)\n",
    "\n",
    "count=0\n",
    "d=[0]*(N+1)\n",
    "d[0]=M\n",
    "\n",
    "for x in range(1,N+1):\n",
    "    d[x]=d[x-1]%Money[x-1]\n",
    "    count+=d[x-1]//Money[x-1]\n",
    "    \n",
    "    if d[x]==0:\n",
    "        break\n",
    "        \n",
    "if d[N]!=0:\n",
    "    print(-1)\n",
    "else:\n",
    "    print(count)"
   ]
  },
  {
   "cell_type": "code",
   "execution_count": null,
   "metadata": {},
   "outputs": [],
   "source": [
    "# 8-8 답안 예시\n",
    "\n",
    "n,m=map(int,input())\n",
    "array=[]\n",
    "\n",
    "for i in range(n):\n",
    "    array.append(int(input()))\n",
    "    \n",
    "d=[10001]*(M+1) # DP table\n",
    "\n",
    "d[0]=0\n",
    "\n",
    "for i in range(n):\n",
    "    for j in range(array[i],m+1):\n",
    "        if d[j-array[i]]!=10001:\n",
    "            d[j]=min(d[j],d[j-array[i]]+1)\n",
    "            \n",
    "if d[m]==10001:\n",
    "    print(-1)\n",
    "else:\n",
    "    print(d[m])"
   ]
  }
 ],
 "metadata": {
  "kernelspec": {
   "display_name": "Python 3",
   "language": "python",
   "name": "python3"
  },
  "language_info": {
   "codemirror_mode": {
    "name": "ipython",
    "version": 3
   },
   "file_extension": ".py",
   "mimetype": "text/x-python",
   "name": "python",
   "nbconvert_exporter": "python",
   "pygments_lexer": "ipython3",
   "version": "3.8.3"
  }
 },
 "nbformat": 4,
 "nbformat_minor": 4
}
