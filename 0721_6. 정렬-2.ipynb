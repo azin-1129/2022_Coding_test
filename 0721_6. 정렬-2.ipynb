{
 "cells": [
  {
   "cell_type": "markdown",
   "id": "046452c8",
   "metadata": {},
   "source": [
    "- 파이썬의 정렬 라이브러리"
   ]
  },
  {
   "cell_type": "markdown",
   "id": "bb6d6ef5",
   "metadata": {},
   "source": [
    "- - sorted()"
   ]
  },
  {
   "cell_type": "code",
   "execution_count": 1,
   "id": "b401b41a",
   "metadata": {},
   "outputs": [
    {
     "data": {
      "text/plain": [
       "[0, 1, 2, 3, 4, 5, 6, 7, 8, 9]"
      ]
     },
     "execution_count": 1,
     "metadata": {},
     "output_type": "execute_result"
    }
   ],
   "source": [
    "array=[7,5,9,0,3,1,6,2,4,8]\n",
    "\n",
    "result=sorted(array)\n",
    "result"
   ]
  },
  {
   "cell_type": "markdown",
   "id": "38c2766f",
   "metadata": {},
   "source": [
    "- - sort()"
   ]
  },
  {
   "cell_type": "code",
   "execution_count": 2,
   "id": "5008da7a",
   "metadata": {},
   "outputs": [
    {
     "data": {
      "text/plain": [
       "[0, 1, 2, 3, 4, 5, 6, 7, 8, 9]"
      ]
     },
     "execution_count": 2,
     "metadata": {},
     "output_type": "execute_result"
    }
   ],
   "source": [
    "array=[7,5,9,0,3,1,6,2,4,8]\n",
    "\n",
    "array.sort()\n",
    "array"
   ]
  },
  {
   "cell_type": "markdown",
   "id": "48527fb7",
   "metadata": {},
   "source": [
    "- - key 활용"
   ]
  },
  {
   "cell_type": "code",
   "execution_count": 3,
   "id": "5de04719",
   "metadata": {},
   "outputs": [
    {
     "name": "stdout",
     "output_type": "stream",
     "text": [
      "[('바나나', 2), ('당근', 3), ('사과', 5)]\n"
     ]
    }
   ],
   "source": [
    "array=[('바나나',2), ('사과',5), ('당근',3)]\n",
    "\n",
    "def setting(data):\n",
    "    return data[1]\n",
    "\n",
    "result=sorted(array, key=setting)\n",
    "print(result)"
   ]
  },
  {
   "cell_type": "code",
   "execution_count": 4,
   "id": "bb3a82be",
   "metadata": {},
   "outputs": [],
   "source": [
    "array.sort(key=setting)"
   ]
  },
  {
   "cell_type": "code",
   "execution_count": 5,
   "id": "f5dbdb38",
   "metadata": {},
   "outputs": [
    {
     "data": {
      "text/plain": [
       "[('바나나', 2), ('당근', 3), ('사과', 5)]"
      ]
     },
     "execution_count": 5,
     "metadata": {},
     "output_type": "execute_result"
    }
   ],
   "source": [
    "array"
   ]
  },
  {
   "cell_type": "markdown",
   "id": "4b19a252",
   "metadata": {},
   "source": [
    "---"
   ]
  },
  {
   "cell_type": "markdown",
   "id": "3ea978ca",
   "metadata": {},
   "source": [
    "### 실전 문제"
   ]
  },
  {
   "cell_type": "markdown",
   "id": "8faf740b",
   "metadata": {},
   "source": [
    "- 2. 위에서 아래로(4분 걸림)"
   ]
  },
  {
   "cell_type": "code",
   "execution_count": 12,
   "id": "2715b4fa",
   "metadata": {},
   "outputs": [
    {
     "name": "stdout",
     "output_type": "stream",
     "text": [
      "3\n",
      "15\n",
      "27\n",
      "12\n",
      "27 15 12 "
     ]
    }
   ],
   "source": [
    "N=int(input())\n",
    "array=[]\n",
    "\n",
    "for _ in range(N):\n",
    "    array.append(int(input()))\n",
    "    \n",
    "for item in sorted(array,reverse=True):\n",
    "    print(item, end=' ')"
   ]
  },
  {
   "cell_type": "markdown",
   "id": "62529114",
   "metadata": {},
   "source": [
    "- 3. 성적이 낮은 순서로 학생 출력하기(8분 걸림)"
   ]
  },
  {
   "cell_type": "code",
   "execution_count": 13,
   "id": "7c79d009",
   "metadata": {},
   "outputs": [
    {
     "name": "stdout",
     "output_type": "stream",
     "text": [
      "2\n",
      "홍길동 95\n",
      "이순신 77\n",
      "이순신 홍길동 "
     ]
    }
   ],
   "source": [
    "def some_key(item):\n",
    "    return item[1]\n",
    "\n",
    "N=int(input())\n",
    "tuple_arr=[]\n",
    "\n",
    "for _ in range(N):\n",
    "    name, score=input().split()\n",
    "    tuple_arr.append( (name, int(score)))\n",
    "    \n",
    "for item in sorted(tuple_arr, key=some_key):\n",
    "    print(item[0], end=' ')"
   ]
  },
  {
   "cell_type": "code",
   "execution_count": 14,
   "id": "0ac72d9f",
   "metadata": {},
   "outputs": [
    {
     "data": {
      "text/plain": [
       "[1, 2, 3, 4]"
      ]
     },
     "execution_count": 14,
     "metadata": {},
     "output_type": "execute_result"
    }
   ],
   "source": [
    "test=[4,2,1,3]\n",
    "sorted(test)"
   ]
  },
  {
   "cell_type": "markdown",
   "id": "b2c6eae1",
   "metadata": {},
   "source": [
    "- 4. 두 배열의 원소 교체(10분쯤 걸림)"
   ]
  },
  {
   "cell_type": "code",
   "execution_count": 15,
   "id": "257ffcc7",
   "metadata": {},
   "outputs": [
    {
     "name": "stdout",
     "output_type": "stream",
     "text": [
      "5 3\n",
      "1 2 5 4 3\n",
      "5 5 6 6 5\n",
      "26\n"
     ]
    }
   ],
   "source": [
    "N,K = map(int, input().split())\n",
    "A=list(map(int, input().split()))\n",
    "B=list(map(int, input().split()))\n",
    "\n",
    "A=sorted(A)\n",
    "B=sorted(B, reverse=True)\n",
    "\n",
    "for i in range(K):\n",
    "    if A[i]<B[i]:\n",
    "        A[i], B[i]=B[i], A[i]\n",
    "        \n",
    "print(sum(A))"
   ]
  }
 ],
 "metadata": {
  "kernelspec": {
   "display_name": "Python 3 (ipykernel)",
   "language": "python",
   "name": "python3"
  },
  "language_info": {
   "codemirror_mode": {
    "name": "ipython",
    "version": 3
   },
   "file_extension": ".py",
   "mimetype": "text/x-python",
   "name": "python",
   "nbconvert_exporter": "python",
   "pygments_lexer": "ipython3",
   "version": "3.10.4"
  }
 },
 "nbformat": 4,
 "nbformat_minor": 5
}
