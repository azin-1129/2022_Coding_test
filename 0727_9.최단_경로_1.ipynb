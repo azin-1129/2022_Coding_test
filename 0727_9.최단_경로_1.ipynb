{
 "cells": [
  {
   "cell_type": "markdown",
   "id": "337f38ac",
   "metadata": {},
   "source": [
    "- 9-1.py 간단한 다익스트라 알고리즘 소스코드"
   ]
  },
  {
   "cell_type": "code",
   "execution_count": 1,
   "id": "8fcfe80b",
   "metadata": {},
   "outputs": [
    {
     "ename": "ValueError",
     "evalue": "not enough values to unpack (expected 2, got 0)",
     "output_type": "error",
     "traceback": [
      "\u001b[1;31m---------------------------------------------------------------------------\u001b[0m",
      "\u001b[1;31mValueError\u001b[0m                                Traceback (most recent call last)",
      "Input \u001b[1;32mIn [1]\u001b[0m, in \u001b[0;36m<cell line: 5>\u001b[1;34m()\u001b[0m\n\u001b[0;32m      2\u001b[0m \u001b[38;5;28minput\u001b[39m\u001b[38;5;241m=\u001b[39msys\u001b[38;5;241m.\u001b[39mstdin\u001b[38;5;241m.\u001b[39mreadline\n\u001b[0;32m      3\u001b[0m INF\u001b[38;5;241m=\u001b[39m\u001b[38;5;28mint\u001b[39m(\u001b[38;5;241m1e9\u001b[39m)\n\u001b[1;32m----> 5\u001b[0m n,m\u001b[38;5;241m=\u001b[39m\u001b[38;5;28mmap\u001b[39m(\u001b[38;5;28mint\u001b[39m,\u001b[38;5;28minput\u001b[39m()\u001b[38;5;241m.\u001b[39msplit()) \u001b[38;5;66;03m# 노드 수, 간선 수\u001b[39;00m\n\u001b[0;32m      6\u001b[0m start\u001b[38;5;241m=\u001b[39m\u001b[38;5;28mint\u001b[39m(\u001b[38;5;28minput\u001b[39m()) \u001b[38;5;66;03m# 시작\u001b[39;00m\n\u001b[0;32m      7\u001b[0m graph\u001b[38;5;241m=\u001b[39m[ [] \u001b[38;5;28;01mfor\u001b[39;00m i \u001b[38;5;129;01min\u001b[39;00m \u001b[38;5;28mrange\u001b[39m(n\u001b[38;5;241m+\u001b[39m\u001b[38;5;241m1\u001b[39m) ] \u001b[38;5;66;03m# 노드 연결 정보\u001b[39;00m\n",
      "\u001b[1;31mValueError\u001b[0m: not enough values to unpack (expected 2, got 0)"
     ]
    }
   ],
   "source": [
    "import sys\n",
    "input=sys.stdin.readline\n",
    "INF=int(1e9)\n",
    "\n",
    "n,m=map(int,input().split()) # 노드 수, 간선 수\n",
    "start=int(input()) # 시작\n",
    "graph=[ [] for i in range(n+1) ] # 노드 연결 정보\n",
    "\n",
    "visited=[False]*(n+1) # 방문?\n",
    "distance=[INF]*(n+1)\n",
    "\n",
    "for _ in range(m):\n",
    "    a,b,c= map(int,input().split()) # a to b = c\n",
    "    graph[a].append((b,c))\n",
    "    \n",
    "def get_smallest_node():\n",
    "    min_value=INF\n",
    "    index=0\n",
    "    \n",
    "    for i in range(1,n+1):\n",
    "        if distance[i]<min_value and not visited[i]:\n",
    "            min_value=distance[i]\n",
    "            index=i\n",
    "            \n",
    "    return index\n",
    "\n",
    "def dijkstra(start):\n",
    "    distance[start]=0\n",
    "    visited[start]=True\n",
    "    \n",
    "    for j in graph[start]: # start 노드 연결정보. a to (b, =c)\n",
    "        distance[j[0]]=j[1]\n",
    "        \n",
    "    for i in range(n-1): # start 제외 노드들에 대해 반복\n",
    "        now=get_smallest_node()\n",
    "        visited[now]=True\n",
    "        \n",
    "        for j in graph[now]: # a to (b, =c)\n",
    "            cost=distance[now]+j[1] # 지금까지의 거리 + 연결 거리\n",
    "            \n",
    "            if cost<distance[j[0]]: # 기존 거보다 작으면 갱신\n",
    "                distance[j[0]]=cost\n",
    "                \n",
    "dijkstra(start)\n",
    "\n",
    "for i in range(1, n+1):\n",
    "    if distance[i]==INF:\n",
    "        print('*')\n",
    "    else:\n",
    "        print(distance[i])"
   ]
  },
  {
   "cell_type": "code",
   "execution_count": null,
   "id": "4fe2e3d5",
   "metadata": {},
   "outputs": [],
   "source": []
  }
 ],
 "metadata": {
  "kernelspec": {
   "display_name": "Python 3 (ipykernel)",
   "language": "python",
   "name": "python3"
  },
  "language_info": {
   "codemirror_mode": {
    "name": "ipython",
    "version": 3
   },
   "file_extension": ".py",
   "mimetype": "text/x-python",
   "name": "python",
   "nbconvert_exporter": "python",
   "pygments_lexer": "ipython3",
   "version": "3.10.4"
  }
 },
 "nbformat": 4,
 "nbformat_minor": 5
}
