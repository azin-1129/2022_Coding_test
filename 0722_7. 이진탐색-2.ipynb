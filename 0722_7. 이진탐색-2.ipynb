{
 "cells": [
  {
   "cell_type": "markdown",
   "id": "b565b832",
   "metadata": {},
   "source": [
    "### 7. 이진탐색-2"
   ]
  },
  {
   "cell_type": "markdown",
   "id": "0d00edb6",
   "metadata": {},
   "source": [
    "- 3. 떡볶이 떡 만들기"
   ]
  },
  {
   "cell_type": "code",
   "execution_count": 9,
   "id": "d570403f",
   "metadata": {},
   "outputs": [
    {
     "name": "stdout",
     "output_type": "stream",
     "text": [
      "4 6\n",
      "19 15 10 17\n",
      "떡들: [] -----\n",
      "절단기: 8 잘린 떡들: [11, 7, 2, 9] 합 29\n",
      "덜 자름\n",
      "떡들: [] -----\n",
      "절단기: 13 잘린 떡들: [6, 2, 4] 합 12\n",
      "덜 자름\n",
      "떡들: [] -----\n",
      "절단기: 15 잘린 떡들: [4, 0, 2] 합 6\n",
      "요구 사항에 부합.\n"
     ]
    },
    {
     "data": {
      "text/plain": [
       "15"
      ]
     },
     "execution_count": 9,
     "metadata": {},
     "output_type": "execute_result"
    }
   ],
   "source": [
    "def binary_search(start, end, tteok_list, M):\n",
    "    mid=(start+end)//2\n",
    "    tteoks=[]\n",
    "    \n",
    "    print('떡들:',tteoks,'-----')\n",
    "    \n",
    "    if start>end:\n",
    "        print('안됨')\n",
    "        return 0\n",
    "    \n",
    "    for tteok in tteok_list:\n",
    "        if tteok-mid>=0:\n",
    "            tteoks.append(tteok-mid)\n",
    "            \n",
    "    print('절단기:',mid,'잘린 떡들:',tteoks,'합',sum(tteoks))\n",
    "    if sum(tteoks)==M:\n",
    "        print('요구 사항에 부합.')\n",
    "        return mid\n",
    "    elif sum(tteoks)>M:\n",
    "        print('덜 자름')\n",
    "        return binary_search(mid+1, end, tteok_list, M)\n",
    "    else:\n",
    "        print('많이 자름')\n",
    "        return binary_search(start, mid-1, tteok_list, M)\n",
    "        \n",
    "N, M=map(int,input().split())\n",
    "tteok_list=list(map(int,input().split()))\n",
    "\n",
    "binary_search(0, tteok_list[N-1], tteok_list, M)"
   ]
  },
  {
   "cell_type": "markdown",
   "id": "54181fff",
   "metadata": {},
   "source": [
    "- 답안 예시"
   ]
  },
  {
   "cell_type": "code",
   "execution_count": null,
   "id": "0eda827c",
   "metadata": {},
   "outputs": [],
   "source": [
    "n,m=list(map(int,input().split()))\n",
    "\n",
    "array=list(map(int,input().split()))\n",
    "\n",
    "start=0\n",
    "end=max(array)\n",
    "\n",
    "result=0\n",
    "\n",
    "while (start<=end):\n",
    "    total=0\n",
    "    mid=(start+end)//2\n",
    "    \n",
    "    for x in array:\n",
    "        if x>mid:\n",
    "            total+=x-mid # 떡 잘라넣기\n",
    "            \n",
    "    if total<m: # 덜 자름.\n",
    "        end=mid-1\n",
    "    else:\n",
    "        result=mid # 그냥 기록\n",
    "        start=mid+1\n",
    "        \n",
    "print(result)"
   ]
  }
 ],
 "metadata": {
  "kernelspec": {
   "display_name": "Python 3 (ipykernel)",
   "language": "python",
   "name": "python3"
  },
  "language_info": {
   "codemirror_mode": {
    "name": "ipython",
    "version": 3
   },
   "file_extension": ".py",
   "mimetype": "text/x-python",
   "name": "python",
   "nbconvert_exporter": "python",
   "pygments_lexer": "ipython3",
   "version": "3.10.4"
  }
 },
 "nbformat": 4,
 "nbformat_minor": 5
}
