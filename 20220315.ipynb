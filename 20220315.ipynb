{
 "cells": [
  {
   "cell_type": "code",
   "execution_count": 1,
   "metadata": {},
   "outputs": [
    {
     "name": "stdout",
     "output_type": "stream",
     "text": [
      "4\n",
      "1 3 1 5\n",
      "max: 5 좌: 2 우: 4\n",
      "맨 오른쪽에 인접 구역 없어 먹음\n",
      "K: [1, 3, 1, 0]\n",
      "max: 3 좌: 0 우: 2\n",
      "먹음\n",
      "K: [1, 0, 1, 0]\n",
      "max: 1 좌: -1 우: 1\n",
      "맨 왼쪽에 위치한 max값에 인접 창고 확인됨\n",
      "K: [0, 0, 1, 0]\n",
      "인접 값이 있어 못 먹음\n",
      "K: [0, 0, 0, 0]\n",
      "max: 0 좌: -1 우: 1\n",
      "8\n"
     ]
    }
   ],
   "source": [
    "# 220p\n",
    "\n",
    "N=int(input())\n",
    "K=list(map(int,input().split()))\n",
    "\n",
    "flags=[0]*N\n",
    "food=0\n",
    "\n",
    "for _ in range(N):\n",
    "    print(\"max:\",max(K),\"좌:\",K.index(max(K))-1,\"우:\",K.index(max(K))+1)\n",
    "    if max(K)==0:\n",
    "        break\n",
    "    if K.index(max(K))-1<0:\n",
    "        if flags[K.index(max(K))+1]==1:\n",
    "            print(\"맨 왼쪽에 위치한 max값에 인접 창고 확인됨\")\n",
    "            K[K.index(max(K))]=0\n",
    "            print(\"K:\",K)\n",
    "        else:\n",
    "            flags[K.index(max(K))]=1\n",
    "            food+=max(K)\n",
    "            K[K.index(max(K))]=0\n",
    "            print(\"맨 왼쪽에 인접 구역 없어 먹음\")\n",
    "            print(\"K:\",K)\n",
    "    if K.index(max(K))+1>=N:\n",
    "        if flags[K.index(max(K))-1]==1:\n",
    "            print(\"맨 오른쪽에 위치한 max 값에 인접 창고 확인됨\")\n",
    "            K[K.index(max(K))]=0\n",
    "            print(\"K:\",K)\n",
    "        else:\n",
    "            flags[K.index(max(K))]=1\n",
    "            food+=max(K)\n",
    "            K[K.index(max(K))]=0\n",
    "            print(\"맨 오른쪽에 인접 구역 없어 먹음\")\n",
    "            print(\"K:\",K)\n",
    "    else:\n",
    "        if flags[K.index(max(K))-1]==1 or flags[K.index(max(K))+1]==1:\n",
    "            print(\"인접 값이 있어 못 먹음\")\n",
    "            K[K.index(max(K))]=0\n",
    "            print(\"K:\",K)\n",
    "        else:\n",
    "            print(\"먹음\")\n",
    "            flags[K.index(max(K))]=1\n",
    "            food+=max(K)\n",
    "            K[K.index(max(K))]=0\n",
    "            print(\"K:\",K)\n",
    "        \n",
    "print(food)"
   ]
  },
  {
   "cell_type": "code",
   "execution_count": 2,
   "metadata": {},
   "outputs": [
    {
     "name": "stdout",
     "output_type": "stream",
     "text": [
      "4\n",
      "1 3 1 5\n",
      "8\n"
     ]
    }
   ],
   "source": [
    "# 222p 답안 예시\n",
    "\n",
    "n=int(input())\n",
    "array=list(map(int,input().split()))\n",
    "\n",
    "d=[0]*100\n",
    "\n",
    "d[0]=array[0]\n",
    "d[1]=max(array[0],array[1])\n",
    "\n",
    "for i in range(2,n):\n",
    "    d[i]=max(d[i-1],d[i-2]+array[i])\n",
    "    \n",
    "print(d[n-1])"
   ]
  },
  {
   "cell_type": "code",
   "execution_count": null,
   "metadata": {},
   "outputs": [],
   "source": []
  }
 ],
 "metadata": {
  "kernelspec": {
   "display_name": "Python 3",
   "language": "python",
   "name": "python3"
  },
  "language_info": {
   "codemirror_mode": {
    "name": "ipython",
    "version": 3
   },
   "file_extension": ".py",
   "mimetype": "text/x-python",
   "name": "python",
   "nbconvert_exporter": "python",
   "pygments_lexer": "ipython3",
   "version": "3.8.3"
  }
 },
 "nbformat": 4,
 "nbformat_minor": 4
}
