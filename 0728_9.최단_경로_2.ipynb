{
 "cells": [
  {
   "cell_type": "markdown",
   "id": "2d4293b8",
   "metadata": {},
   "source": [
    "- 9-2.py 개선된 dijkstra 소스"
   ]
  },
  {
   "cell_type": "code",
   "execution_count": 1,
   "id": "bd64baa3",
   "metadata": {},
   "outputs": [
    {
     "ename": "ValueError",
     "evalue": "not enough values to unpack (expected 2, got 0)",
     "output_type": "error",
     "traceback": [
      "\u001b[1;31m---------------------------------------------------------------------------\u001b[0m",
      "\u001b[1;31mValueError\u001b[0m                                Traceback (most recent call last)",
      "Input \u001b[1;32mIn [1]\u001b[0m, in \u001b[0;36m<cell line: 6>\u001b[1;34m()\u001b[0m\n\u001b[0;32m      3\u001b[0m \u001b[38;5;28minput\u001b[39m\u001b[38;5;241m=\u001b[39msys\u001b[38;5;241m.\u001b[39mstdin\u001b[38;5;241m.\u001b[39mreadline\n\u001b[0;32m      4\u001b[0m INF\u001b[38;5;241m=\u001b[39m\u001b[38;5;28mint\u001b[39m(\u001b[38;5;241m1e9\u001b[39m)\n\u001b[1;32m----> 6\u001b[0m n,m\u001b[38;5;241m=\u001b[39m\u001b[38;5;28mmap\u001b[39m(\u001b[38;5;28mint\u001b[39m,\u001b[38;5;28minput\u001b[39m()\u001b[38;5;241m.\u001b[39msplit()) \u001b[38;5;66;03m# 노드, 엣지\u001b[39;00m\n\u001b[0;32m      7\u001b[0m start\u001b[38;5;241m=\u001b[39m\u001b[38;5;28mint\u001b[39m(\u001b[38;5;28minput\u001b[39m()) \u001b[38;5;66;03m# 시작 노드\u001b[39;00m\n\u001b[0;32m      9\u001b[0m graph\u001b[38;5;241m=\u001b[39m[ [] \u001b[38;5;28;01mfor\u001b[39;00m i \u001b[38;5;129;01min\u001b[39;00m \u001b[38;5;28mrange\u001b[39m(n\u001b[38;5;241m+\u001b[39m\u001b[38;5;241m1\u001b[39m)]\n",
      "\u001b[1;31mValueError\u001b[0m: not enough values to unpack (expected 2, got 0)"
     ]
    }
   ],
   "source": [
    "import heapq\n",
    "import sys\n",
    "input=sys.stdin.readline\n",
    "INF=int(1e9)\n",
    "\n",
    "n,m=map(int,input().split()) # 노드, 엣지\n",
    "start=int(input()) # 시작 노드\n",
    "\n",
    "graph=[ [] for i in range(n+1)]\n",
    "distance=[INF]*(n+1)\n",
    "\n",
    "for _ in range(m):\n",
    "    a,b,c=map(int,input().split())\n",
    "    graph[a].append( (b,c) ) # a to (b,=c)\n",
    "    \n",
    "\n",
    "def dijkstra(start):\n",
    "    q=[]\n",
    "    heapq.heappush(q, (0,start) )\n",
    "    distance[start]=0\n",
    "    \n",
    "    while q:\n",
    "        dist, now=heapq.heappop(q)\n",
    "        \n",
    "        if distance[now]<dist:\n",
    "            continue\n",
    "            \n",
    "        for i in graph[now]:\n",
    "            cost=dist+i[1] # 기존 경로+후 경로\n",
    "            if cost<distance[i[0]]:\n",
    "                distance[i[0]]=cost\n",
    "                heapq.heappush(q, (cost, i[0]) )\n",
    "                \n",
    "dijkstra(start)\n",
    "\n",
    "for i in range(1,n+1):\n",
    "    if distance[i]==INF:\n",
    "        print('x')\n",
    "    else:\n",
    "        print(distance[i])"
   ]
  },
  {
   "cell_type": "markdown",
   "id": "83b5781f",
   "metadata": {},
   "source": [
    "- 9-3. 플로이드 워셜 소스"
   ]
  },
  {
   "cell_type": "code",
   "execution_count": 1,
   "id": "da12cf31",
   "metadata": {},
   "outputs": [
    {
     "name": "stdout",
     "output_type": "stream",
     "text": [
      "4\n",
      "7\n",
      "1 2 4\n",
      "1 4 6\n",
      "2 1 3\n",
      "2 3 7\n",
      "3 1 5\n",
      "3 4 4\n",
      "4 3 2\n",
      "0 4 8 6 \n",
      "3 0 7 9 \n",
      "5 9 0 4 \n",
      "7 11 2 0 \n"
     ]
    }
   ],
   "source": [
    "INF=int(1e9)\n",
    "\n",
    "n=int(input())\n",
    "m=int(input())\n",
    "\n",
    "graph=[ [INF]*(n+1) for _ in range(n+1)]\n",
    "\n",
    "for a in range(1, n+1):\n",
    "    for b in range(1, n+1):\n",
    "        if a==b:\n",
    "            graph[a][b]=0\n",
    "            \n",
    "for _ in range(m):\n",
    "    a,b,c=map(int,input().split())\n",
    "    graph[a][b]=c\n",
    "    \n",
    "for k in range(1,n+1):\n",
    "    for a in range(1,n+1):\n",
    "        for b in range(1,n+1):\n",
    "            graph[a][b]=min(graph[a][b], graph[a][k]+graph[k][b])\n",
    "            \n",
    "for a in range(1,n+1):\n",
    "    for b in range(1,n+1):\n",
    "        if graph[a][b]==INF:\n",
    "            print('x', end=' ')\n",
    "        else:\n",
    "            print(graph[a][b], end=' ')\n",
    "    print() "
   ]
  },
  {
   "cell_type": "markdown",
   "id": "123a12a3",
   "metadata": {},
   "source": [
    "# 실전 문제\n",
    "- 2. 미래 도시"
   ]
  },
  {
   "cell_type": "code",
   "execution_count": 12,
   "id": "d242828b",
   "metadata": {},
   "outputs": [
    {
     "name": "stdout",
     "output_type": "stream",
     "text": [
      "4 2\n",
      "1 3\n",
      "2 4\n",
      "3 4\n",
      "초기 그래프\n",
      "[1000000000, 1000000000, 1000000000, 1000000000, 1000000000]\n",
      "[1000000000, 0, 1000000000, 1, 1000000000]\n",
      "[1000000000, 1000000000, 0, 1000000000, 1]\n",
      "[1000000000, 1, 1000000000, 0, 1000000000]\n",
      "[1000000000, 1000000000, 1, 1000000000, 0]\n",
      "후 그래프\n",
      "[1000000000, 1000000000, 1000000000, 1000000000, 1000000000]\n",
      "[1000000000, 0, 1000000000, 1, 1000000000]\n",
      "[1000000000, 1000000000, 0, 1000000000, 1]\n",
      "[1000000000, 1, 1000000000, 0, 1000000000]\n",
      "[1000000000, 1000000000, 1, 1000000000, 0]\n",
      "graph[1][k]: 1000000000 graph[k][x]: 1000000000\n",
      "-1\n"
     ]
    }
   ],
   "source": [
    "# 35분 걸림\n",
    "\n",
    "N,M=map(int,input().split())\n",
    "INF=int(1e9)\n",
    "graph=[ [INF]*(N+1) for _ in range(N+1)]\n",
    "\n",
    "for _ in range(M):\n",
    "    x,y=map(int,input().split())\n",
    "    graph[x][y]=1\n",
    "    graph[y][x]=1 # 서로 이동할 수 있댔음\n",
    "    \n",
    "X,K=map(int,input().split()) # K를 거쳐 X로\n",
    "\n",
    "for x in range(1,N+1):\n",
    "    graph[x][x]=0\n",
    "    \n",
    "print('초기 그래프')\n",
    "\n",
    "for item in graph:\n",
    "    print(item)\n",
    "    \n",
    "for t in range(1, N+1):\n",
    "    for x in range(1,N+1):\n",
    "        for y in range(1,N+1):\n",
    "            graph[x][y]=min(graph[x][y], graph[x][t]+graph[t][y])\n",
    "            \n",
    "print('후 그래프')\n",
    "\n",
    "for item in graph:\n",
    "    print(item)\n",
    "\n",
    "print('graph[1][k]:',graph[1][K],'graph[k][x]:',graph[K][X])\n",
    "if graph[1][K]!=INF and graph[K][X]!=INF:\n",
    "    print(graph[1][K]+graph[K][X])\n",
    "else:\n",
    "    print(-1)"
   ]
  },
  {
   "cell_type": "markdown",
   "id": "f1925a0e",
   "metadata": {},
   "source": [
    "- 9-4.py 답안 예시"
   ]
  },
  {
   "cell_type": "code",
   "execution_count": 13,
   "id": "27c9efd1",
   "metadata": {
    "scrolled": false
   },
   "outputs": [
    {
     "name": "stdout",
     "output_type": "stream",
     "text": [
      "\n"
     ]
    },
    {
     "ename": "ValueError",
     "evalue": "not enough values to unpack (expected 2, got 0)",
     "output_type": "error",
     "traceback": [
      "\u001b[1;31m---------------------------------------------------------------------------\u001b[0m",
      "\u001b[1;31mValueError\u001b[0m                                Traceback (most recent call last)",
      "Input \u001b[1;32mIn [13]\u001b[0m, in \u001b[0;36m<cell line: 3>\u001b[1;34m()\u001b[0m\n\u001b[0;32m      1\u001b[0m INF\u001b[38;5;241m=\u001b[39m\u001b[38;5;28mint\u001b[39m(\u001b[38;5;241m1e9\u001b[39m)\n\u001b[1;32m----> 3\u001b[0m n,m\u001b[38;5;241m=\u001b[39m\u001b[38;5;28mmap\u001b[39m(\u001b[38;5;28mint\u001b[39m, \u001b[38;5;28minput\u001b[39m()\u001b[38;5;241m.\u001b[39msplit())\n\u001b[0;32m      4\u001b[0m graph\u001b[38;5;241m=\u001b[39m[ [INF]\u001b[38;5;241m*\u001b[39m(n\u001b[38;5;241m+\u001b[39m\u001b[38;5;241m1\u001b[39m) \u001b[38;5;28;01mfor\u001b[39;00m _ \u001b[38;5;129;01min\u001b[39;00m \u001b[38;5;28mrange\u001b[39m(n\u001b[38;5;241m+\u001b[39m\u001b[38;5;241m1\u001b[39m)]\n\u001b[0;32m      6\u001b[0m \u001b[38;5;28;01mfor\u001b[39;00m a \u001b[38;5;129;01min\u001b[39;00m \u001b[38;5;28mrange\u001b[39m(\u001b[38;5;241m1\u001b[39m, n\u001b[38;5;241m+\u001b[39m\u001b[38;5;241m1\u001b[39m):\n",
      "\u001b[1;31mValueError\u001b[0m: not enough values to unpack (expected 2, got 0)"
     ]
    }
   ],
   "source": [
    "INF=int(1e9)\n",
    "\n",
    "n,m=map(int, input().split())\n",
    "graph=[ [INF]*(n+1) for _ in range(n+1)]\n",
    "\n",
    "for a in range(1, n+1):\n",
    "    for b in range(1,n+1):\n",
    "        if a==b:\n",
    "            graph[a][b]=0\n",
    "        \n",
    "for _ in range(m):\n",
    "    a,b=map(int,input().split())\n",
    "    graph[a][b]=1\n",
    "    graph[b][a]=1\n",
    "    \n",
    "x,k=map(int,input().split())\n",
    "\n",
    "for k in range(1, n+1):\n",
    "    for a in range(1, n+1):\n",
    "        for b in range(1, n+1):\n",
    "            graph[a][b]=min(graph[a][b], graph[a][k]+graph[k][b])\n",
    "            \n",
    "distance=graph[1][k]+graph[k][x]\n",
    "\n",
    "if distance>=INF:\n",
    "    print('-1')\n",
    "else:\n",
    "\n",
    "    print(distance)"
   ]
  },
  {
   "cell_type": "markdown",
   "id": "81f09509",
   "metadata": {},
   "source": [
    "- 3. 전보"
   ]
  },
  {
   "cell_type": "code",
   "execution_count": 19,
   "id": "f717e672",
   "metadata": {},
   "outputs": [
    {
     "name": "stdout",
     "output_type": "stream",
     "text": [
      "3 2 1\n",
      "1 2 4\n",
      "1 3 2\n",
      "[1000000000, 0, 4, 2]\n",
      "2 4\n"
     ]
    }
   ],
   "source": [
    "# 31분 걸림\n",
    "\n",
    "import heapq\n",
    "\n",
    "INF=int(1e9)\n",
    "\n",
    "N,M,C=map(int,input().split())\n",
    "\n",
    "graph=[ [] for _ in range(N+1) ]\n",
    "DP_table=[INF]*(N+1)\n",
    "cty_count=0\n",
    "tim_count=[]\n",
    "\n",
    "for _ in range(M):\n",
    "    X,Y,Z=map(int,input().split())\n",
    "    graph[X].append((Z,Y))\n",
    "    \n",
    "def dijkstra_queue(start):\n",
    "    q=[]\n",
    "    heapq.heappush(q, (0,start))\n",
    "    DP_table[start]=0\n",
    "    \n",
    "    while q:\n",
    "        way,rot=heapq.heappop(q)\n",
    "        \n",
    "        for comp in graph[rot]: # 다음 거리\n",
    "            cost=way+comp[0]\n",
    "            \n",
    "            if DP_table[comp[1]]<cost:\n",
    "                continue # 무용지물이면 무시 << 이게 for문 위로 올라가서\n",
    "                # if distance[rot]<way: continue 해도 되네요\n",
    "            DP_table[comp[1]]=cost\n",
    "            heapq.heappush(q, (cost,comp[1]) ) # 푸쉬\n",
    "            \n",
    "dijkstra_queue(C)\n",
    "\n",
    "#print(DP_table)\n",
    "\n",
    "for rot,way in enumerate(DP_table):\n",
    "    if rot in (0,1): # 의미없거나 시작이면 컨티뉴\n",
    "        continue\n",
    "    \n",
    "    if way!=INF:\n",
    "        cty_count+=1\n",
    "        tim_count.append(way)\n",
    "        \n",
    "print(cty_count, max(tim_count))"
   ]
  },
  {
   "cell_type": "markdown",
   "id": "1a6d36c5",
   "metadata": {},
   "source": [
    "- 9-5.py 답안 예"
   ]
  },
  {
   "cell_type": "code",
   "execution_count": null,
   "id": "bfea97e0",
   "metadata": {},
   "outputs": [],
   "source": [
    "import heapq\n",
    "import sys\n",
    "\n",
    "input=sys.stdin.readline\n",
    "INF=int(1e9)\n",
    "\n",
    "n,m,start=map(int,input().split())\n",
    "\n",
    "graph=[ [] for i in range(n+1) ]\n",
    "distance=[INF]*(n+1)\n",
    "\n",
    "for _ in range(m):\n",
    "    x,y,z=map(int,input().split())\n",
    "    graph[x].append( (y,z) )\n",
    "    \n",
    "def dijkstra(start):\n",
    "    q=[]\n",
    "    heapq.heappush(q, (0, start))\n",
    "    distance[start]=0\n",
    "    \n",
    "    while q:\n",
    "        dist,now=heapq.heappop(q)\n",
    "        if distance[now]<dist:\n",
    "            continue\n",
    "            \n",
    "        for i in graph[now]:\n",
    "            cost=dist+i[1]\n",
    "            if cost<distance[i[0]]:\n",
    "                distance[i[0]]=cost\n",
    "                heapq.heappush(q,(cost,i[0]))\n",
    "                \n",
    "dijkstra(start)\n",
    "\n",
    "count=0\n",
    "max_distance=0\n",
    "\n",
    "for d in distance:\n",
    "    if d!=INF:\n",
    "        count+=1\n",
    "        max_distance=max(max_distance, d)\n",
    "        \n",
    "print(count-1, max_distance)"
   ]
  }
 ],
 "metadata": {
  "kernelspec": {
   "display_name": "Python 3 (ipykernel)",
   "language": "python",
   "name": "python3"
  },
  "language_info": {
   "codemirror_mode": {
    "name": "ipython",
    "version": 3
   },
   "file_extension": ".py",
   "mimetype": "text/x-python",
   "name": "python",
   "nbconvert_exporter": "python",
   "pygments_lexer": "ipython3",
   "version": "3.10.4"
  }
 },
 "nbformat": 4,
 "nbformat_minor": 5
}
